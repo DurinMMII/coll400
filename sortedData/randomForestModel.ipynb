{
 "cells": [
  {
   "cell_type": "code",
   "execution_count": 1,
   "metadata": {},
   "outputs": [],
   "source": [
    "import pandas as pd\n",
    "import numpy as np\n",
    "from sklearn.ensemble import RandomForestClassifier\n",
    "from sklearn.metrics import accuracy_score"
   ]
  },
  {
   "cell_type": "code",
   "execution_count": 2,
   "metadata": {},
   "outputs": [
    {
     "name": "stdout",
     "output_type": "stream",
     "text": [
      "NaN values in train labels: 0\n",
      "NaN values in test labels: 0\n",
      "Data types in train_df:\n",
      "Packet Count                    int64\n",
      "Total Length                    int64\n",
      "Avg Interval (s)              float64\n",
      "Max Interval (s)              float64\n",
      "Min Interval (s)              float64\n",
      "Avg Length (bytes)            float64\n",
      "Max Length (bytes)              int64\n",
      "Min Length (bytes)              int64\n",
      "Most Common Length (bytes)      int64\n",
      "Label                           int64\n",
      "dtype: object\n"
     ]
    }
   ],
   "source": [
    "\n",
    "# Load data\n",
    "train_df = pd.read_csv('train.csv')\n",
    "test_df = pd.read_csv('test.csv')\n",
    "\n",
    "# Create label mapping\n",
    "label_mapping = {\n",
    "    'ChatGPT': 0,\n",
    "    'Reddit': 1,\n",
    "    'Wikipedia': 2,\n",
    "    'LinkedIn': 3\n",
    "}\n",
    "\n",
    "# Convert label column using mapping\n",
    "train_df.iloc[:, -1] = train_df.iloc[:, -1].map(label_mapping)\n",
    "test_df.iloc[:, -1] = test_df.iloc[:, -1].map(label_mapping)\n",
    "\n",
    "# Check for any NaN values in labels \n",
    "print(f\"NaN values in train labels: {train_df.iloc[:, -1].isna().sum()}\")\n",
    "print(f\"NaN values in test labels: {test_df.iloc[:, -1].isna().sum()}\")\n",
    "\n",
    "# Convert feature columns to numeric and handle NaN values\n",
    "for col in train_df.columns[:-1]:  # exclude label column\n",
    "    train_df[col] = pd.to_numeric(train_df[col], errors='coerce')\n",
    "    test_df[col] = pd.to_numeric(test_df[col], errors='coerce')\n",
    "\n",
    "# Fill NaN values with column means instead of dropping rows\n",
    "train_df = train_df.fillna(train_df.mean())\n",
    "test_df = test_df.fillna(test_df.mean())\n",
    "\n",
    "# Verify data types before conversion to tensors\n",
    "print(f\"Data types in train_df:\\n{train_df.dtypes}\")\n",
    "\n",
    "# Force convert to int64\n",
    "train_df.iloc[:, -1] = train_df.iloc[:, -1].astype('int64')\n",
    "test_df.iloc[:, -1] = test_df.iloc[:, -1].astype('int64')"
   ]
  },
  {
   "cell_type": "code",
   "execution_count": 3,
   "metadata": {},
   "outputs": [
    {
     "name": "stdout",
     "output_type": "stream",
     "text": [
      "Random Forest Test Accuracy: 0.9091\n"
     ]
    }
   ],
   "source": [
    "X_train = train_df.drop(columns=['Label'])   \n",
    "y_train = train_df['Label']                  \n",
    "\n",
    "X_test = test_df.drop(columns=['Label'])    \n",
    "y_test = test_df['Label']\n",
    "\n",
    "rf = RandomForestClassifier(\n",
    "    n_estimators=200,   \n",
    "    max_depth=20,       \n",
    "    random_state=123     \n",
    ")\n",
    "\n",
    "rf.fit(X_train, y_train)\n",
    "\n",
    "\n",
    "y_pred = rf.predict(X_test)\n",
    "\n",
    "\n",
    "acc = accuracy_score(y_test, y_pred)\n",
    "print(f\"Random Forest Test Accuracy: {acc:.4f}\")\n"
   ]
  },
  {
   "cell_type": "code",
   "execution_count": 4,
   "metadata": {},
   "outputs": [
    {
     "data": {
      "text/plain": [
       "<sklearn.metrics._plot.confusion_matrix.ConfusionMatrixDisplay at 0x7fde28d383a0>"
      ]
     },
     "execution_count": 4,
     "metadata": {},
     "output_type": "execute_result"
    },
    {
     "data": {
      "image/png": "[encoded data removed]",
      "text/plain": [
       "<Figure size 432x288 with 2 Axes>"
      ]
     },
     "metadata": {
      "needs_background": "light"
     },
     "output_type": "display_data"
    }
   ],
   "source": [
    "from sklearn.metrics import confusion_matrix, ConfusionMatrixDisplay\n",
    "\n",
    "cm = confusion_matrix(y_test, y_pred)\n",
    "disp = ConfusionMatrixDisplay(confusion_matrix=cm, display_labels=label_mapping.keys())\n",
    "disp.plot()"
   ]
  }
 ],
 "metadata": {
  "kernelspec": {
   "display_name": "base",
   "language": "python",
   "name": "python3"
  },
  "language_info": {
   "codemirror_mode": {
    "name": "ipython",
    "version": 3
   },
   "file_extension": ".py",
   "mimetype": "text/x-python",
   "name": "python",
   "nbconvert_exporter": "python",
   "pygments_lexer": "ipython3",
   "version": "3.9.12"
  }
 },
 "nbformat": 4,
 "nbformat_minor": 2
}
