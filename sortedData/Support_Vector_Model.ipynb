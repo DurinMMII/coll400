{
  "cells": [
    {
      "cell_type": "code",
      "execution_count": 4,
      "metadata": {
        "colab": {
          "base_uri": "https://localhost:8080/",
          "height": 1000
        },
        "id": "SDXlx50hbeGk",
        "outputId": "6d96adf9-e2a6-4107-b81d-a0640078a106"
      },
      "outputs": [
        {
          "name": "stdout",
          "output_type": "stream",
          "text": [
            "Degree=1, C=0.01, Validation Accuracy: 0.4167\n",
            "Degree=1, C=0.10, Validation Accuracy: 0.6250\n",
            "Degree=1, C=1.00, Validation Accuracy: 0.9167\n",
            "Degree=1, C=10.00, Validation Accuracy: 0.9167\n",
            "Degree=1, C=25.00, Validation Accuracy: 0.8750\n",
            "Degree=1, C=50.00, Validation Accuracy: 0.8750\n",
            "Degree=1, C=75.00, Validation Accuracy: 0.8750\n",
            "Degree=1, C=100.00, Validation Accuracy: 0.8750\n",
            "Degree=1, C=250.00, Validation Accuracy: 0.8750\n",
            "Degree=1, C=500.00, Validation Accuracy: 0.8750\n",
            "Degree=1, C=1000.00, Validation Accuracy: 0.8750\n",
            "Degree=2, C=0.01, Validation Accuracy: 0.2917\n",
            "Degree=2, C=0.10, Validation Accuracy: 0.3333\n",
            "Degree=2, C=1.00, Validation Accuracy: 0.7083\n",
            "Degree=2, C=10.00, Validation Accuracy: 0.7083\n",
            "Degree=2, C=25.00, Validation Accuracy: 0.6667\n",
            "Degree=2, C=50.00, Validation Accuracy: 0.6250\n",
            "Degree=2, C=75.00, Validation Accuracy: 0.6250\n",
            "Degree=2, C=100.00, Validation Accuracy: 0.6250\n",
            "Degree=2, C=250.00, Validation Accuracy: 0.6250\n",
            "Degree=2, C=500.00, Validation Accuracy: 0.6250\n",
            "Degree=2, C=1000.00, Validation Accuracy: 0.6250\n",
            "Degree=3, C=0.01, Validation Accuracy: 0.2917\n",
            "Degree=3, C=0.10, Validation Accuracy: 0.4167\n",
            "Degree=3, C=1.00, Validation Accuracy: 0.6667\n",
            "Degree=3, C=10.00, Validation Accuracy: 0.7917\n",
            "Degree=3, C=25.00, Validation Accuracy: 0.9167\n",
            "Degree=3, C=50.00, Validation Accuracy: 0.8750\n",
            "Degree=3, C=75.00, Validation Accuracy: 0.8750\n",
            "Degree=3, C=100.00, Validation Accuracy: 0.8750\n",
            "Degree=3, C=250.00, Validation Accuracy: 0.8750\n",
            "Degree=3, C=500.00, Validation Accuracy: 0.8750\n",
            "Degree=3, C=1000.00, Validation Accuracy: 0.8750\n",
            "Degree=4, C=0.01, Validation Accuracy: 0.2917\n",
            "Degree=4, C=0.10, Validation Accuracy: 0.2917\n",
            "Degree=4, C=1.00, Validation Accuracy: 0.4583\n",
            "Degree=4, C=10.00, Validation Accuracy: 0.5833\n",
            "Degree=4, C=25.00, Validation Accuracy: 0.6667\n",
            "Degree=4, C=50.00, Validation Accuracy: 0.6250\n",
            "Degree=4, C=75.00, Validation Accuracy: 0.6250\n",
            "Degree=4, C=100.00, Validation Accuracy: 0.6250\n",
            "Degree=4, C=250.00, Validation Accuracy: 0.6250\n",
            "Degree=4, C=500.00, Validation Accuracy: 0.6250\n",
            "Degree=4, C=1000.00, Validation Accuracy: 0.6250\n",
            "Degree=5, C=0.01, Validation Accuracy: 0.2917\n",
            "Degree=5, C=0.10, Validation Accuracy: 0.3333\n",
            "Degree=5, C=1.00, Validation Accuracy: 0.4583\n",
            "Degree=5, C=10.00, Validation Accuracy: 0.5417\n",
            "Degree=5, C=25.00, Validation Accuracy: 0.5833\n",
            "Degree=5, C=50.00, Validation Accuracy: 0.7083\n",
            "Degree=5, C=75.00, Validation Accuracy: 0.7500\n",
            "Degree=5, C=100.00, Validation Accuracy: 0.7083\n",
            "Degree=5, C=250.00, Validation Accuracy: 0.7917\n",
            "Degree=5, C=500.00, Validation Accuracy: 0.8333\n",
            "Degree=5, C=1000.00, Validation Accuracy: 0.8333\n",
            "\n",
            "Best parameters found:\n",
            "Degree=1, C=1.00, Validation Accuracy: 0.9167\n",
            "\n",
            "Final model on Test set:\n",
            "              precision    recall  f1-score   support\n",
            "\n",
            "     ChatGPT       0.62      1.00      0.77         5\n",
            "    LinkedIn       1.00      0.78      0.88         9\n",
            "      Reddit       1.00      1.00      1.00         6\n",
            "   Wikipedia       1.00      0.75      0.86         4\n",
            "\n",
            "    accuracy                           0.88        24\n",
            "   macro avg       0.91      0.88      0.88        24\n",
            "weighted avg       0.92      0.88      0.88        24\n",
            "\n",
            "Test Accuracy: 0.8750\n"
          ]
        },
        {
          "data": {
            "image/png": "[encoded data removed]",
            "text/plain": [
              "<Figure size 432x288 with 2 Axes>"
            ]
          },
          "metadata": {
            "needs_background": "light"
          },
          "output_type": "display_data"
        }
      ],
      "source": [
        "import seaborn as sns\n",
        "import pandas as pd\n",
        "import numpy as np\n",
        "from sklearn.preprocessing import StandardScaler\n",
        "from sklearn.metrics import accuracy_score, classification_report, ConfusionMatrixDisplay\n",
        "from sklearn.svm import SVC\n",
        "import matplotlib.pyplot as plt\n",
        "#from google.colab import files\n",
        "\n",
        "# Upload files\n",
        "#uploaded = files.upload()\n",
        "\n",
        "# Load the CSVs\n",
        "train = pd.read_csv('train.csv')\n",
        "val = pd.read_csv('validation.csv')\n",
        "test = pd.read_csv('test.csv')\n",
        "\n",
        "# Separate features and labels\n",
        "X_train = train.drop(columns=['Label'])\n",
        "y_train = train['Label']\n",
        "\n",
        "X_val = val.drop(columns=['Label'])\n",
        "y_val = val['Label']\n",
        "\n",
        "X_test = test.drop(columns=['Label'])\n",
        "y_test = test['Label']\n",
        "\n",
        "# Scale the data\n",
        "scaler = StandardScaler()\n",
        "X_train_scaled = scaler.fit_transform(X_train)\n",
        "X_val_scaled = scaler.transform(X_val)\n",
        "X_test_scaled = scaler.transform(X_test)\n",
        "\n",
        "# Initialize variables to track the best model and its accuracy\n",
        "best_accuracy = 0\n",
        "best_params = {'degree': None, 'C': None}\n",
        "\n",
        "# Store scores for heatmap\n",
        "scores = []\n",
        "\n",
        "degree_range = range(1, 6)\n",
        "C_range = [0.01, 0.1, 1, 10, 25, 50, 75, 100, 250, 500, 1000] #C parameter range doesn't change or affect accuracy score for test by much, if at all\n",
        "\n",
        "for degree in degree_range:\n",
        "    for C in C_range:\n",
        "        model = SVC(kernel='poly', degree=degree, C=C, random_state=123)\n",
        "        model.fit(X_train_scaled, y_train)\n",
        "        y_val_pred = model.predict(X_val_scaled)\n",
        "        accuracy = accuracy_score(y_val, y_val_pred)\n",
        "\n",
        "        print(f\"Degree={degree}, C={C:.2f}, Validation Accuracy: {accuracy:.4f}\")\n",
        "\n",
        "        scores.append([degree, C, accuracy])\n",
        "\n",
        "        if accuracy > best_accuracy:\n",
        "            best_accuracy = accuracy\n",
        "            best_params['degree'] = degree\n",
        "            best_params['C'] = C\n",
        "\n",
        "# Report best parameters\n",
        "print(\"\\nBest parameters found:\")\n",
        "print(f\"Degree={best_params['degree']}, C={best_params['C']:.2f}, Validation Accuracy: {best_accuracy:.4f}\")\n",
        "\n",
        "# Retrain final model on full training data\n",
        "final_model = SVC(kernel='poly', degree=best_params['degree'], C=best_params['C'], random_state=123)\n",
        "final_model.fit(X_train_scaled, y_train)\n",
        "\n",
        "# Evaluate on test set\n",
        "y_test_pred = final_model.predict(X_test_scaled)\n",
        "print(\"\\nFinal model on Test set:\")\n",
        "print(classification_report(y_test, y_test_pred))\n",
        "print(f\"Test Accuracy: {accuracy_score(y_test, y_test_pred):.4f}\")\n",
        "\n",
        "# Heatmap visualization on best parameter combination for poly kernel\n",
        "results = pd.DataFrame(scores, columns=['Degree', 'C', 'Accuracy'])\n",
        "heatmap_data = results.pivot_table(index='Degree', columns='C', values='Accuracy')\n",
        "sns.heatmap(heatmap_data, annot=True, cmap='YlGnBu')\n",
        "plt.title('Accuracy Heatmap for Poly Kernel')\n",
        "plt.show()"
      ]
    },
    {
      "cell_type": "code",
      "execution_count": 5,
      "metadata": {
        "colab": {
          "base_uri": "https://localhost:8080/",
          "height": 1000
        },
        "id": "T7LLnUQahyBP",
        "outputId": "fbf822a5-a7ec-4a7c-80a3-4c4e3bf5160f"
      },
      "outputs": [
        {
          "name": "stdout",
          "output_type": "stream",
          "text": [
            "Gamma=0.0005, C=0.01, Validation Accuracy: 0.4167\n",
            "Gamma=0.0005, C=0.1, Validation Accuracy: 0.4167\n",
            "Gamma=0.0005, C=1, Validation Accuracy: 0.4167\n",
            "Gamma=0.0005, C=10, Validation Accuracy: 0.4167\n",
            "Gamma=0.0005, C=50, Validation Accuracy: 0.8750\n",
            "Gamma=0.0005, C=100, Validation Accuracy: 0.9167\n",
            "Gamma=0.0005, C=500, Validation Accuracy: 0.9583\n",
            "Gamma=0.0005, C=1000, Validation Accuracy: 0.9583\n",
            "Gamma=0.001, C=0.01, Validation Accuracy: 0.4167\n",
            "Gamma=0.001, C=0.1, Validation Accuracy: 0.4167\n",
            "Gamma=0.001, C=1, Validation Accuracy: 0.4167\n",
            "Gamma=0.001, C=10, Validation Accuracy: 0.6667\n",
            "Gamma=0.001, C=50, Validation Accuracy: 0.9167\n",
            "Gamma=0.001, C=100, Validation Accuracy: 0.9583\n",
            "Gamma=0.001, C=500, Validation Accuracy: 0.9583\n",
            "Gamma=0.001, C=1000, Validation Accuracy: 0.9167\n",
            "Gamma=0.005, C=0.01, Validation Accuracy: 0.4167\n",
            "Gamma=0.005, C=0.1, Validation Accuracy: 0.4167\n",
            "Gamma=0.005, C=1, Validation Accuracy: 0.4167\n",
            "Gamma=0.005, C=10, Validation Accuracy: 0.8750\n",
            "Gamma=0.005, C=50, Validation Accuracy: 0.9583\n",
            "Gamma=0.005, C=100, Validation Accuracy: 0.9583\n",
            "Gamma=0.005, C=500, Validation Accuracy: 0.8750\n",
            "Gamma=0.005, C=1000, Validation Accuracy: 0.8750\n",
            "Gamma=0.01, C=0.01, Validation Accuracy: 0.4167\n",
            "Gamma=0.01, C=0.1, Validation Accuracy: 0.4167\n",
            "Gamma=0.01, C=1, Validation Accuracy: 0.6667\n",
            "Gamma=0.01, C=10, Validation Accuracy: 0.9167\n",
            "Gamma=0.01, C=50, Validation Accuracy: 0.9167\n",
            "Gamma=0.01, C=100, Validation Accuracy: 0.9167\n",
            "Gamma=0.01, C=500, Validation Accuracy: 0.8750\n",
            "Gamma=0.01, C=1000, Validation Accuracy: 0.8750\n",
            "Gamma=0.1, C=0.01, Validation Accuracy: 0.4167\n",
            "Gamma=0.1, C=0.1, Validation Accuracy: 0.4583\n",
            "Gamma=0.1, C=1, Validation Accuracy: 0.8750\n",
            "Gamma=0.1, C=10, Validation Accuracy: 0.7500\n",
            "Gamma=0.1, C=50, Validation Accuracy: 0.6667\n",
            "Gamma=0.1, C=100, Validation Accuracy: 0.7083\n",
            "Gamma=0.1, C=500, Validation Accuracy: 0.7083\n",
            "Gamma=0.1, C=1000, Validation Accuracy: 0.7083\n",
            "Gamma=1, C=0.01, Validation Accuracy: 0.4167\n",
            "Gamma=1, C=0.1, Validation Accuracy: 0.7500\n",
            "Gamma=1, C=1, Validation Accuracy: 0.5833\n",
            "Gamma=1, C=10, Validation Accuracy: 0.5000\n",
            "Gamma=1, C=50, Validation Accuracy: 0.4583\n",
            "Gamma=1, C=100, Validation Accuracy: 0.4583\n",
            "Gamma=1, C=500, Validation Accuracy: 0.4583\n",
            "Gamma=1, C=1000, Validation Accuracy: 0.4583\n",
            "\n",
            "Best parameters found:\n",
            "C=500, Gamma=0.0005, Validation Accuracy: 0.9583\n",
            "\n",
            "Final model on Test set:\n",
            "              precision    recall  f1-score   support\n",
            "\n",
            "     ChatGPT       0.62      1.00      0.77         5\n",
            "    LinkedIn       0.88      0.78      0.82         9\n",
            "      Reddit       1.00      0.83      0.91         6\n",
            "   Wikipedia       1.00      0.75      0.86         4\n",
            "\n",
            "    accuracy                           0.83        24\n",
            "   macro avg       0.88      0.84      0.84        24\n",
            "weighted avg       0.88      0.83      0.84        24\n",
            "\n",
            "Test Accuracy: 0.8333\n"
          ]
        },
        {
          "data": {
            "image/png": "[encoded data removed]",
            "text/plain": [
              "<Figure size 720x432 with 2 Axes>"
            ]
          },
          "metadata": {
            "needs_background": "light"
          },
          "output_type": "display_data"
        }
      ],
      "source": [
        "import pandas as pd\n",
        "import seaborn as sns\n",
        "import matplotlib.pyplot as plt\n",
        "from sklearn.svm import SVC\n",
        "from sklearn.metrics import accuracy_score, classification_report\n",
        "import numpy as np\n",
        "\n",
        "best_accuracy = 0\n",
        "best_params = {'C': None, 'gamma': None}\n",
        "scores = []\n",
        "\n",
        "# Define ranges\n",
        "C_range = [0.01, 0.1, 1, 10, 50, 100, 500, 1000]\n",
        "gamma_range = [0.0005, 0.001, 0.005, 0.01, 0.1, 1]\n",
        "\n",
        "# Grid search over C and gamma (using validation accuracy)\n",
        "for gamma in gamma_range:\n",
        "    for C in C_range:\n",
        "        model = SVC(kernel='sigmoid', C=C, gamma=gamma, random_state=123)\n",
        "        model.fit(X_train_scaled, y_train)\n",
        "        y_val_pred = model.predict(X_val_scaled)\n",
        "        accuracy = accuracy_score(y_val, y_val_pred)\n",
        "        print(f\"Gamma={gamma}, C={C}, Validation Accuracy: {accuracy:.4f}\")\n",
        "\n",
        "        scores.append((gamma, C, accuracy))\n",
        "\n",
        "        if accuracy > best_accuracy:\n",
        "            best_accuracy = accuracy\n",
        "            best_params['C'] = C\n",
        "            best_params['gamma'] = gamma\n",
        "\n",
        "# Report best parameters\n",
        "print(\"\\nBest parameters found:\")\n",
        "print(f\"C={best_params['C']}, Gamma={best_params['gamma']}, Validation Accuracy: {best_accuracy:.4f}\")\n",
        "\n",
        "# Retrain on training set with best params and evaluate on test\n",
        "final_model = SVC(kernel='sigmoid', C=best_params['C'], gamma=best_params['gamma'], random_state=123)\n",
        "final_model.fit(X_train_scaled, y_train)\n",
        "y_test_pred = final_model.predict(X_test_scaled)\n",
        "\n",
        "# Test results\n",
        "print(\"\\nFinal model on Test set:\")\n",
        "print(classification_report(y_test, y_test_pred))\n",
        "print(f\"Test Accuracy: {accuracy_score(y_test, y_test_pred):.4f}\")\n",
        "\n",
        "# Heatmap of validation accuracy to see which parameters are the best combination for final best kernel + params before evaluating on the test set\n",
        "results_df = pd.DataFrame(scores, columns=['Gamma', 'C', 'Accuracy'])\n",
        "heatmap_data = results_df.pivot(index='Gamma', columns='C', values='Accuracy')\n",
        "\n",
        "plt.figure(figsize=(10, 6))\n",
        "sns.heatmap(heatmap_data, annot=True, fmt=\".4f\", cmap='YlGnBu', linewidths=0.5)\n",
        "plt.title(\"Accuracy Heatmap (Sigmoid Kernel)\")\n",
        "plt.xlabel(\"C\")\n",
        "plt.ylabel(\"Gamma\")\n",
        "plt.tight_layout()\n",
        "plt.show()"
      ]
    },
    {
      "cell_type": "code",
      "execution_count": 6,
      "metadata": {
        "colab": {
          "base_uri": "https://localhost:8080/",
          "height": 1000
        },
        "id": "q_Ufru9HvitX",
        "outputId": "2d02b357-3eab-4753-ee60-66c9a86bd095"
      },
      "outputs": [
        {
          "name": "stdout",
          "output_type": "stream",
          "text": [
            "C=0.01, Validation Accuracy: 0.6667\n",
            "C=0.10, Validation Accuracy: 0.9583\n",
            "C=1.00, Validation Accuracy: 0.9167\n",
            "C=10.00, Validation Accuracy: 0.8750\n",
            "C=25.00, Validation Accuracy: 0.8750\n",
            "C=50.00, Validation Accuracy: 0.8750\n",
            "C=75.00, Validation Accuracy: 0.8750\n",
            "C=100.00, Validation Accuracy: 0.8750\n",
            "C=250.00, Validation Accuracy: 0.8750\n",
            "C=500.00, Validation Accuracy: 0.8750\n",
            "C=1000.00, Validation Accuracy: 0.8750\n",
            "\n",
            "Best parameters found:\n",
            "C=0.1, Validation Accuracy: 0.9583\n",
            "\n",
            "Final model on Test set:\n",
            "              precision    recall  f1-score   support\n",
            "\n",
            "     ChatGPT       0.62      1.00      0.77         5\n",
            "    LinkedIn       1.00      0.78      0.88         9\n",
            "      Reddit       1.00      1.00      1.00         6\n",
            "   Wikipedia       1.00      0.75      0.86         4\n",
            "\n",
            "    accuracy                           0.88        24\n",
            "   macro avg       0.91      0.88      0.88        24\n",
            "weighted avg       0.92      0.88      0.88        24\n",
            "\n",
            "Test Accuracy: 0.8750\n"
          ]
        },
        {
          "data": {
            "image/png": "[encoded data removed]",
            "text/plain": [
              "<Figure size 720x360 with 1 Axes>"
            ]
          },
          "metadata": {
            "needs_background": "light"
          },
          "output_type": "display_data"
        }
      ],
      "source": [
        "from sklearn.svm import SVC\n",
        "from sklearn.metrics import accuracy_score, classification_report\n",
        "import matplotlib.pyplot as plt\n",
        "import pandas as pd\n",
        "import seaborn as sns\n",
        "import numpy as np\n",
        "\n",
        "best_accuracy = 0\n",
        "best_C = None\n",
        "results = []\n",
        "\n",
        "# Only vary C for linear kernel\n",
        "C_range = [0.01, 0.1, 1, 10, 25, 50, 75, 100, 250, 500, 1000]\n",
        "\n",
        "# Grid search using validation accuracy\n",
        "for C in C_range:\n",
        "    model = SVC(kernel='linear', C=C, random_state=123)\n",
        "    model.fit(X_train_scaled, y_train)\n",
        "    y_val_pred = model.predict(X_val_scaled)\n",
        "    accuracy = accuracy_score(y_val, y_val_pred)\n",
        "    results.append((C, accuracy))\n",
        "    print(f\"C={C:.2f}, Validation Accuracy: {accuracy:.4f}\")\n",
        "\n",
        "    if accuracy > best_accuracy:\n",
        "        best_accuracy = accuracy\n",
        "        best_C = C\n",
        "\n",
        "# Report best C\n",
        "print(\"\\nBest parameters found:\")\n",
        "print(f\"C={best_C}, Validation Accuracy: {best_accuracy:.4f}\")\n",
        "\n",
        "# Retrain on train + val\n",
        "X_trainval = np.vstack([X_train_scaled, X_val_scaled]) #stack vertically because they're 2D [samples, features]\n",
        "y_trainval = np.concatenate([y_train, y_val]) #only 1D,\n",
        "\n",
        "final_model = SVC(kernel='linear', C=best_C, random_state=123)\n",
        "final_model.fit(X_trainval, y_trainval)\n",
        "\n",
        "# Evaluate on test set\n",
        "y_test_pred = final_model.predict(X_test_scaled)\n",
        "print(\"\\nFinal model on Test set:\")\n",
        "print(classification_report(y_test, y_test_pred, zero_division=0))\n",
        "print(f\"Test Accuracy: {accuracy_score(y_test, y_test_pred):.4f}\")\n",
        "\n",
        "# Visualize validation accuracy for C alone, since linear doesn't use degrees or other params like gamma\n",
        "results_df = pd.DataFrame(results, columns=['C', 'Validation Accuracy'])\n",
        "plt.figure(figsize=(10, 5))\n",
        "sns.barplot(data=results_df, x='C', y='Validation Accuracy', palette='viridis')\n",
        "plt.title('Validation Accuracy for Linear Kernel vs C')\n",
        "plt.xlabel('C Value')\n",
        "plt.ylabel('Validation Accuracy')\n",
        "plt.xticks(rotation=45)\n",
        "plt.grid(axis='y')\n",
        "plt.tight_layout()\n",
        "plt.show()"
      ]
    },
    {
      "cell_type": "code",
      "execution_count": 7,
      "metadata": {
        "colab": {
          "base_uri": "https://localhost:8080/"
        },
        "id": "8XUeQ2zbiIp8",
        "outputId": "e2ffab54-58af-404b-d7ba-c753c7c9917f"
      },
      "outputs": [
        {
          "name": "stdout",
          "output_type": "stream",
          "text": [
            "Gamma=0.0005, C=0.01, Validation Accuracy: 0.4167\n",
            "Gamma=0.0005, C=0.10, Validation Accuracy: 0.4167\n",
            "Gamma=0.0005, C=1.00, Validation Accuracy: 0.4167\n",
            "Gamma=0.0005, C=10.00, Validation Accuracy: 0.6667\n",
            "Gamma=0.0005, C=50.00, Validation Accuracy: 0.9167\n",
            "Gamma=0.0005, C=100.00, Validation Accuracy: 0.9583\n",
            "Gamma=0.0005, C=500.00, Validation Accuracy: 0.9583\n",
            "Gamma=0.0005, C=1000.00, Validation Accuracy: 0.9167\n",
            "Gamma=0.0006, C=0.01, Validation Accuracy: 0.4167\n",
            "Gamma=0.0006, C=0.10, Validation Accuracy: 0.4167\n",
            "Gamma=0.0006, C=1.00, Validation Accuracy: 0.4167\n",
            "Gamma=0.0006, C=10.00, Validation Accuracy: 0.7500\n",
            "Gamma=0.0006, C=50.00, Validation Accuracy: 0.9167\n",
            "Gamma=0.0006, C=100.00, Validation Accuracy: 0.9583\n",
            "Gamma=0.0006, C=500.00, Validation Accuracy: 0.9583\n",
            "Gamma=0.0006, C=1000.00, Validation Accuracy: 0.9167\n",
            "Gamma=0.0007, C=0.01, Validation Accuracy: 0.4167\n",
            "Gamma=0.0007, C=0.10, Validation Accuracy: 0.4167\n",
            "Gamma=0.0007, C=1.00, Validation Accuracy: 0.4167\n",
            "Gamma=0.0007, C=10.00, Validation Accuracy: 0.8333\n",
            "Gamma=0.0007, C=50.00, Validation Accuracy: 0.9167\n",
            "Gamma=0.0007, C=100.00, Validation Accuracy: 0.9583\n",
            "Gamma=0.0007, C=500.00, Validation Accuracy: 0.9167\n",
            "Gamma=0.0007, C=1000.00, Validation Accuracy: 0.9167\n",
            "Gamma=0.0008, C=0.01, Validation Accuracy: 0.4167\n",
            "Gamma=0.0008, C=0.10, Validation Accuracy: 0.4167\n",
            "Gamma=0.0008, C=1.00, Validation Accuracy: 0.4167\n",
            "Gamma=0.0008, C=10.00, Validation Accuracy: 0.7917\n",
            "Gamma=0.0008, C=50.00, Validation Accuracy: 0.9167\n",
            "Gamma=0.0008, C=100.00, Validation Accuracy: 0.9583\n",
            "Gamma=0.0008, C=500.00, Validation Accuracy: 0.9167\n",
            "Gamma=0.0008, C=1000.00, Validation Accuracy: 0.9167\n",
            "Gamma=0.0009, C=0.01, Validation Accuracy: 0.4167\n",
            "Gamma=0.0009, C=0.10, Validation Accuracy: 0.4167\n",
            "Gamma=0.0009, C=1.00, Validation Accuracy: 0.4167\n",
            "Gamma=0.0009, C=10.00, Validation Accuracy: 0.8333\n",
            "Gamma=0.0009, C=50.00, Validation Accuracy: 0.9167\n",
            "Gamma=0.0009, C=100.00, Validation Accuracy: 0.9583\n",
            "Gamma=0.0009, C=500.00, Validation Accuracy: 0.9167\n",
            "Gamma=0.0009, C=1000.00, Validation Accuracy: 0.8750\n",
            "Gamma=0.0010, C=0.01, Validation Accuracy: 0.4167\n",
            "Gamma=0.0010, C=0.10, Validation Accuracy: 0.4167\n",
            "Gamma=0.0010, C=1.00, Validation Accuracy: 0.4167\n",
            "Gamma=0.0010, C=10.00, Validation Accuracy: 0.8750\n",
            "Gamma=0.0010, C=50.00, Validation Accuracy: 0.9583\n",
            "Gamma=0.0010, C=100.00, Validation Accuracy: 0.9583\n",
            "Gamma=0.0010, C=500.00, Validation Accuracy: 0.9167\n",
            "Gamma=0.0010, C=1000.00, Validation Accuracy: 0.8750\n",
            "Gamma=0.0011, C=0.01, Validation Accuracy: 0.4167\n",
            "Gamma=0.0011, C=0.10, Validation Accuracy: 0.4167\n",
            "Gamma=0.0011, C=1.00, Validation Accuracy: 0.4167\n",
            "Gamma=0.0011, C=10.00, Validation Accuracy: 0.8750\n",
            "Gamma=0.0011, C=50.00, Validation Accuracy: 0.9583\n",
            "Gamma=0.0011, C=100.00, Validation Accuracy: 0.9583\n",
            "Gamma=0.0011, C=500.00, Validation Accuracy: 0.9167\n",
            "Gamma=0.0011, C=1000.00, Validation Accuracy: 0.8750\n",
            "Gamma=0.0012, C=0.01, Validation Accuracy: 0.4167\n",
            "Gamma=0.0012, C=0.10, Validation Accuracy: 0.4167\n",
            "Gamma=0.0012, C=1.00, Validation Accuracy: 0.4167\n",
            "Gamma=0.0012, C=10.00, Validation Accuracy: 0.8750\n",
            "Gamma=0.0012, C=50.00, Validation Accuracy: 0.9583\n",
            "Gamma=0.0012, C=100.00, Validation Accuracy: 0.9583\n",
            "Gamma=0.0012, C=500.00, Validation Accuracy: 0.9583\n",
            "Gamma=0.0012, C=1000.00, Validation Accuracy: 0.8750\n",
            "Gamma=0.0013, C=0.01, Validation Accuracy: 0.4167\n",
            "Gamma=0.0013, C=0.10, Validation Accuracy: 0.4167\n",
            "Gamma=0.0013, C=1.00, Validation Accuracy: 0.4167\n",
            "Gamma=0.0013, C=10.00, Validation Accuracy: 0.8750\n",
            "Gamma=0.0013, C=50.00, Validation Accuracy: 0.9583\n",
            "Gamma=0.0013, C=100.00, Validation Accuracy: 0.9583\n",
            "Gamma=0.0013, C=500.00, Validation Accuracy: 0.9583\n",
            "Gamma=0.0013, C=1000.00, Validation Accuracy: 0.8750\n",
            "Gamma=0.0014, C=0.01, Validation Accuracy: 0.4167\n",
            "Gamma=0.0014, C=0.10, Validation Accuracy: 0.4167\n",
            "Gamma=0.0014, C=1.00, Validation Accuracy: 0.4167\n",
            "Gamma=0.0014, C=10.00, Validation Accuracy: 0.8750\n",
            "Gamma=0.0014, C=50.00, Validation Accuracy: 0.9583\n",
            "Gamma=0.0014, C=100.00, Validation Accuracy: 0.9583\n",
            "Gamma=0.0014, C=500.00, Validation Accuracy: 0.9583\n",
            "Gamma=0.0014, C=1000.00, Validation Accuracy: 0.8750\n",
            "Gamma=0.0015, C=0.01, Validation Accuracy: 0.4167\n",
            "Gamma=0.0015, C=0.10, Validation Accuracy: 0.4167\n",
            "Gamma=0.0015, C=1.00, Validation Accuracy: 0.4167\n",
            "Gamma=0.0015, C=10.00, Validation Accuracy: 0.8750\n",
            "Gamma=0.0015, C=50.00, Validation Accuracy: 0.9583\n",
            "Gamma=0.0015, C=100.00, Validation Accuracy: 0.9583\n",
            "Gamma=0.0015, C=500.00, Validation Accuracy: 0.9583\n",
            "Gamma=0.0015, C=1000.00, Validation Accuracy: 0.8750\n",
            "Gamma=0.0016, C=0.01, Validation Accuracy: 0.4167\n",
            "Gamma=0.0016, C=0.10, Validation Accuracy: 0.4167\n",
            "Gamma=0.0016, C=1.00, Validation Accuracy: 0.4167\n",
            "Gamma=0.0016, C=10.00, Validation Accuracy: 0.8750\n",
            "Gamma=0.0016, C=50.00, Validation Accuracy: 0.9583\n",
            "Gamma=0.0016, C=100.00, Validation Accuracy: 0.9583\n",
            "Gamma=0.0016, C=500.00, Validation Accuracy: 0.8750\n",
            "Gamma=0.0016, C=1000.00, Validation Accuracy: 0.8750\n",
            "Gamma=0.0017, C=0.01, Validation Accuracy: 0.4167\n",
            "Gamma=0.0017, C=0.10, Validation Accuracy: 0.4167\n",
            "Gamma=0.0017, C=1.00, Validation Accuracy: 0.4167\n",
            "Gamma=0.0017, C=10.00, Validation Accuracy: 0.8750\n",
            "Gamma=0.0017, C=50.00, Validation Accuracy: 0.9583\n",
            "Gamma=0.0017, C=100.00, Validation Accuracy: 0.9583\n",
            "Gamma=0.0017, C=500.00, Validation Accuracy: 0.8750\n",
            "Gamma=0.0017, C=1000.00, Validation Accuracy: 0.8750\n",
            "Gamma=0.0018, C=0.01, Validation Accuracy: 0.4167\n",
            "Gamma=0.0018, C=0.10, Validation Accuracy: 0.4167\n",
            "Gamma=0.0018, C=1.00, Validation Accuracy: 0.4167\n",
            "Gamma=0.0018, C=10.00, Validation Accuracy: 0.8750\n",
            "Gamma=0.0018, C=50.00, Validation Accuracy: 0.9583\n",
            "Gamma=0.0018, C=100.00, Validation Accuracy: 0.9583\n",
            "Gamma=0.0018, C=500.00, Validation Accuracy: 0.8750\n",
            "Gamma=0.0018, C=1000.00, Validation Accuracy: 0.8750\n",
            "Gamma=0.0019, C=0.01, Validation Accuracy: 0.4167\n",
            "Gamma=0.0019, C=0.10, Validation Accuracy: 0.4167\n",
            "Gamma=0.0019, C=1.00, Validation Accuracy: 0.4167\n",
            "Gamma=0.0019, C=10.00, Validation Accuracy: 0.9167\n",
            "Gamma=0.0019, C=50.00, Validation Accuracy: 0.9583\n",
            "Gamma=0.0019, C=100.00, Validation Accuracy: 0.9583\n",
            "Gamma=0.0019, C=500.00, Validation Accuracy: 0.8750\n",
            "Gamma=0.0019, C=1000.00, Validation Accuracy: 0.8750\n",
            "Gamma=0.0020, C=0.01, Validation Accuracy: 0.4167\n",
            "Gamma=0.0020, C=0.10, Validation Accuracy: 0.4167\n",
            "Gamma=0.0020, C=1.00, Validation Accuracy: 0.4167\n",
            "Gamma=0.0020, C=10.00, Validation Accuracy: 0.9167\n",
            "Gamma=0.0020, C=50.00, Validation Accuracy: 0.9583\n",
            "Gamma=0.0020, C=100.00, Validation Accuracy: 0.9583\n",
            "Gamma=0.0020, C=500.00, Validation Accuracy: 0.8750\n",
            "Gamma=0.0020, C=1000.00, Validation Accuracy: 0.8750\n",
            "Gamma=0.0021, C=0.01, Validation Accuracy: 0.4167\n",
            "Gamma=0.0021, C=0.10, Validation Accuracy: 0.4167\n",
            "Gamma=0.0021, C=1.00, Validation Accuracy: 0.4167\n",
            "Gamma=0.0021, C=10.00, Validation Accuracy: 0.9167\n",
            "Gamma=0.0021, C=50.00, Validation Accuracy: 0.9583\n",
            "Gamma=0.0021, C=100.00, Validation Accuracy: 0.9583\n",
            "Gamma=0.0021, C=500.00, Validation Accuracy: 0.8750\n",
            "Gamma=0.0021, C=1000.00, Validation Accuracy: 0.8750\n",
            "Gamma=0.0022, C=0.01, Validation Accuracy: 0.4167\n",
            "Gamma=0.0022, C=0.10, Validation Accuracy: 0.4167\n",
            "Gamma=0.0022, C=1.00, Validation Accuracy: 0.4167\n",
            "Gamma=0.0022, C=10.00, Validation Accuracy: 0.9167\n",
            "Gamma=0.0022, C=50.00, Validation Accuracy: 0.9583\n",
            "Gamma=0.0022, C=100.00, Validation Accuracy: 0.9583\n",
            "Gamma=0.0022, C=500.00, Validation Accuracy: 0.8750\n",
            "Gamma=0.0022, C=1000.00, Validation Accuracy: 0.8750\n",
            "Gamma=0.0023, C=0.01, Validation Accuracy: 0.4167\n",
            "Gamma=0.0023, C=0.10, Validation Accuracy: 0.4167\n",
            "Gamma=0.0023, C=1.00, Validation Accuracy: 0.4167\n",
            "Gamma=0.0023, C=10.00, Validation Accuracy: 0.8750\n",
            "Gamma=0.0023, C=50.00, Validation Accuracy: 0.9583\n",
            "Gamma=0.0023, C=100.00, Validation Accuracy: 0.9583\n",
            "Gamma=0.0023, C=500.00, Validation Accuracy: 0.8750\n",
            "Gamma=0.0023, C=1000.00, Validation Accuracy: 0.8750\n",
            "Gamma=0.0024, C=0.01, Validation Accuracy: 0.4167\n",
            "Gamma=0.0024, C=0.10, Validation Accuracy: 0.4167\n",
            "Gamma=0.0024, C=1.00, Validation Accuracy: 0.4167\n",
            "Gamma=0.0024, C=10.00, Validation Accuracy: 0.8750\n",
            "Gamma=0.0024, C=50.00, Validation Accuracy: 0.9583\n",
            "Gamma=0.0024, C=100.00, Validation Accuracy: 0.9583\n",
            "Gamma=0.0024, C=500.00, Validation Accuracy: 0.8750\n",
            "Gamma=0.0024, C=1000.00, Validation Accuracy: 0.8750\n",
            "Gamma=0.0025, C=0.01, Validation Accuracy: 0.4167\n",
            "Gamma=0.0025, C=0.10, Validation Accuracy: 0.4167\n",
            "Gamma=0.0025, C=1.00, Validation Accuracy: 0.4167\n",
            "Gamma=0.0025, C=10.00, Validation Accuracy: 0.8750\n",
            "Gamma=0.0025, C=50.00, Validation Accuracy: 0.9583\n",
            "Gamma=0.0025, C=100.00, Validation Accuracy: 0.9167\n",
            "Gamma=0.0025, C=500.00, Validation Accuracy: 0.8750\n",
            "Gamma=0.0025, C=1000.00, Validation Accuracy: 0.8750\n",
            "Gamma=0.0026, C=0.01, Validation Accuracy: 0.4167\n",
            "Gamma=0.0026, C=0.10, Validation Accuracy: 0.4167\n",
            "Gamma=0.0026, C=1.00, Validation Accuracy: 0.4167\n",
            "Gamma=0.0026, C=10.00, Validation Accuracy: 0.8750\n",
            "Gamma=0.0026, C=50.00, Validation Accuracy: 0.9583\n",
            "Gamma=0.0026, C=100.00, Validation Accuracy: 0.9167\n",
            "Gamma=0.0026, C=500.00, Validation Accuracy: 0.8750\n",
            "Gamma=0.0026, C=1000.00, Validation Accuracy: 0.8750\n",
            "Gamma=0.0027, C=0.01, Validation Accuracy: 0.4167\n",
            "Gamma=0.0027, C=0.10, Validation Accuracy: 0.4167\n",
            "Gamma=0.0027, C=1.00, Validation Accuracy: 0.4167\n",
            "Gamma=0.0027, C=10.00, Validation Accuracy: 0.9167\n",
            "Gamma=0.0027, C=50.00, Validation Accuracy: 0.9583\n",
            "Gamma=0.0027, C=100.00, Validation Accuracy: 0.9167\n",
            "Gamma=0.0027, C=500.00, Validation Accuracy: 0.8750\n",
            "Gamma=0.0027, C=1000.00, Validation Accuracy: 0.8750\n",
            "Gamma=0.0028, C=0.01, Validation Accuracy: 0.4167\n",
            "Gamma=0.0028, C=0.10, Validation Accuracy: 0.4167\n",
            "Gamma=0.0028, C=1.00, Validation Accuracy: 0.4167\n",
            "Gamma=0.0028, C=10.00, Validation Accuracy: 0.9167\n",
            "Gamma=0.0028, C=50.00, Validation Accuracy: 0.9583\n",
            "Gamma=0.0028, C=100.00, Validation Accuracy: 0.9167\n",
            "Gamma=0.0028, C=500.00, Validation Accuracy: 0.8750\n",
            "Gamma=0.0028, C=1000.00, Validation Accuracy: 0.8750\n",
            "Gamma=0.0029, C=0.01, Validation Accuracy: 0.4167\n",
            "Gamma=0.0029, C=0.10, Validation Accuracy: 0.4167\n",
            "Gamma=0.0029, C=1.00, Validation Accuracy: 0.4167\n",
            "Gamma=0.0029, C=10.00, Validation Accuracy: 0.9167\n",
            "Gamma=0.0029, C=50.00, Validation Accuracy: 0.9583\n",
            "Gamma=0.0029, C=100.00, Validation Accuracy: 0.9167\n",
            "Gamma=0.0029, C=500.00, Validation Accuracy: 0.8750\n",
            "Gamma=0.0029, C=1000.00, Validation Accuracy: 0.8750\n",
            "Gamma=0.0030, C=0.01, Validation Accuracy: 0.4167\n",
            "Gamma=0.0030, C=0.10, Validation Accuracy: 0.4167\n",
            "Gamma=0.0030, C=1.00, Validation Accuracy: 0.4167\n",
            "Gamma=0.0030, C=10.00, Validation Accuracy: 0.9167\n",
            "Gamma=0.0030, C=50.00, Validation Accuracy: 0.9583\n",
            "Gamma=0.0030, C=100.00, Validation Accuracy: 0.9583\n",
            "Gamma=0.0030, C=500.00, Validation Accuracy: 0.8750\n",
            "Gamma=0.0030, C=1000.00, Validation Accuracy: 0.8750\n",
            "Gamma=0.0031, C=0.01, Validation Accuracy: 0.4167\n",
            "Gamma=0.0031, C=0.10, Validation Accuracy: 0.4167\n",
            "Gamma=0.0031, C=1.00, Validation Accuracy: 0.4167\n",
            "Gamma=0.0031, C=10.00, Validation Accuracy: 0.9167\n",
            "Gamma=0.0031, C=50.00, Validation Accuracy: 0.9583\n",
            "Gamma=0.0031, C=100.00, Validation Accuracy: 0.9583\n",
            "Gamma=0.0031, C=500.00, Validation Accuracy: 0.8750\n",
            "Gamma=0.0031, C=1000.00, Validation Accuracy: 0.8750\n",
            "Gamma=0.0032, C=0.01, Validation Accuracy: 0.4167\n",
            "Gamma=0.0032, C=0.10, Validation Accuracy: 0.4167\n",
            "Gamma=0.0032, C=1.00, Validation Accuracy: 0.4167\n",
            "Gamma=0.0032, C=10.00, Validation Accuracy: 0.9167\n",
            "Gamma=0.0032, C=50.00, Validation Accuracy: 0.9583\n",
            "Gamma=0.0032, C=100.00, Validation Accuracy: 0.9583\n",
            "Gamma=0.0032, C=500.00, Validation Accuracy: 0.8750\n",
            "Gamma=0.0032, C=1000.00, Validation Accuracy: 0.8750\n",
            "Gamma=0.0033, C=0.01, Validation Accuracy: 0.4167\n",
            "Gamma=0.0033, C=0.10, Validation Accuracy: 0.4167\n",
            "Gamma=0.0033, C=1.00, Validation Accuracy: 0.4167\n",
            "Gamma=0.0033, C=10.00, Validation Accuracy: 0.9167\n",
            "Gamma=0.0033, C=50.00, Validation Accuracy: 0.9583\n",
            "Gamma=0.0033, C=100.00, Validation Accuracy: 0.9583\n",
            "Gamma=0.0033, C=500.00, Validation Accuracy: 0.8750\n",
            "Gamma=0.0033, C=1000.00, Validation Accuracy: 0.8750\n",
            "Gamma=0.0034, C=0.01, Validation Accuracy: 0.4167\n",
            "Gamma=0.0034, C=0.10, Validation Accuracy: 0.4167\n",
            "Gamma=0.0034, C=1.00, Validation Accuracy: 0.4167\n",
            "Gamma=0.0034, C=10.00, Validation Accuracy: 0.9167\n",
            "Gamma=0.0034, C=50.00, Validation Accuracy: 0.9583\n",
            "Gamma=0.0034, C=100.00, Validation Accuracy: 0.9167\n",
            "Gamma=0.0034, C=500.00, Validation Accuracy: 0.8750\n",
            "Gamma=0.0034, C=1000.00, Validation Accuracy: 0.8750\n",
            "Gamma=0.0035, C=0.01, Validation Accuracy: 0.4167\n",
            "Gamma=0.0035, C=0.10, Validation Accuracy: 0.4167\n",
            "Gamma=0.0035, C=1.00, Validation Accuracy: 0.4167\n",
            "Gamma=0.0035, C=10.00, Validation Accuracy: 0.9167\n",
            "Gamma=0.0035, C=50.00, Validation Accuracy: 0.9583\n",
            "Gamma=0.0035, C=100.00, Validation Accuracy: 0.9167\n",
            "Gamma=0.0035, C=500.00, Validation Accuracy: 0.8750\n",
            "Gamma=0.0035, C=1000.00, Validation Accuracy: 0.8750\n",
            "Gamma=0.0036, C=0.01, Validation Accuracy: 0.4167\n",
            "Gamma=0.0036, C=0.10, Validation Accuracy: 0.4167\n",
            "Gamma=0.0036, C=1.00, Validation Accuracy: 0.4167\n",
            "Gamma=0.0036, C=10.00, Validation Accuracy: 0.9167\n",
            "Gamma=0.0036, C=50.00, Validation Accuracy: 0.9583\n",
            "Gamma=0.0036, C=100.00, Validation Accuracy: 0.9583\n",
            "Gamma=0.0036, C=500.00, Validation Accuracy: 0.8750\n",
            "Gamma=0.0036, C=1000.00, Validation Accuracy: 0.8750\n",
            "Gamma=0.0037, C=0.01, Validation Accuracy: 0.4167\n",
            "Gamma=0.0037, C=0.10, Validation Accuracy: 0.4167\n",
            "Gamma=0.0037, C=1.00, Validation Accuracy: 0.4583\n",
            "Gamma=0.0037, C=10.00, Validation Accuracy: 0.9167\n",
            "Gamma=0.0037, C=50.00, Validation Accuracy: 0.9583\n",
            "Gamma=0.0037, C=100.00, Validation Accuracy: 0.9583\n",
            "Gamma=0.0037, C=500.00, Validation Accuracy: 0.8750\n",
            "Gamma=0.0037, C=1000.00, Validation Accuracy: 0.8750\n",
            "Gamma=0.0038, C=0.01, Validation Accuracy: 0.4167\n",
            "Gamma=0.0038, C=0.10, Validation Accuracy: 0.4167\n",
            "Gamma=0.0038, C=1.00, Validation Accuracy: 0.4583\n",
            "Gamma=0.0038, C=10.00, Validation Accuracy: 0.9167\n",
            "Gamma=0.0038, C=50.00, Validation Accuracy: 0.9583\n",
            "Gamma=0.0038, C=100.00, Validation Accuracy: 0.9583\n",
            "Gamma=0.0038, C=500.00, Validation Accuracy: 0.8750\n",
            "Gamma=0.0038, C=1000.00, Validation Accuracy: 0.8750\n",
            "Gamma=0.0039, C=0.01, Validation Accuracy: 0.4167\n",
            "Gamma=0.0039, C=0.10, Validation Accuracy: 0.4167\n",
            "Gamma=0.0039, C=1.00, Validation Accuracy: 0.5000\n",
            "Gamma=0.0039, C=10.00, Validation Accuracy: 0.9167\n",
            "Gamma=0.0039, C=50.00, Validation Accuracy: 0.9583\n",
            "Gamma=0.0039, C=100.00, Validation Accuracy: 0.9583\n",
            "Gamma=0.0039, C=500.00, Validation Accuracy: 0.8750\n",
            "Gamma=0.0039, C=1000.00, Validation Accuracy: 0.8750\n",
            "Gamma=0.0040, C=0.01, Validation Accuracy: 0.4167\n",
            "Gamma=0.0040, C=0.10, Validation Accuracy: 0.4167\n",
            "Gamma=0.0040, C=1.00, Validation Accuracy: 0.5417\n",
            "Gamma=0.0040, C=10.00, Validation Accuracy: 0.9167\n",
            "Gamma=0.0040, C=50.00, Validation Accuracy: 0.9583\n",
            "Gamma=0.0040, C=100.00, Validation Accuracy: 0.9583\n",
            "Gamma=0.0040, C=500.00, Validation Accuracy: 0.8750\n",
            "Gamma=0.0040, C=1000.00, Validation Accuracy: 0.8750\n",
            "Gamma=0.0041, C=0.01, Validation Accuracy: 0.4167\n",
            "Gamma=0.0041, C=0.10, Validation Accuracy: 0.4167\n",
            "Gamma=0.0041, C=1.00, Validation Accuracy: 0.5833\n",
            "Gamma=0.0041, C=10.00, Validation Accuracy: 0.9167\n",
            "Gamma=0.0041, C=50.00, Validation Accuracy: 0.9583\n",
            "Gamma=0.0041, C=100.00, Validation Accuracy: 0.9583\n",
            "Gamma=0.0041, C=500.00, Validation Accuracy: 0.8750\n",
            "Gamma=0.0041, C=1000.00, Validation Accuracy: 0.8750\n",
            "Gamma=0.0042, C=0.01, Validation Accuracy: 0.4167\n",
            "Gamma=0.0042, C=0.10, Validation Accuracy: 0.4167\n",
            "Gamma=0.0042, C=1.00, Validation Accuracy: 0.6250\n",
            "Gamma=0.0042, C=10.00, Validation Accuracy: 0.9167\n",
            "Gamma=0.0042, C=50.00, Validation Accuracy: 0.9167\n",
            "Gamma=0.0042, C=100.00, Validation Accuracy: 0.9583\n",
            "Gamma=0.0042, C=500.00, Validation Accuracy: 0.9167\n",
            "Gamma=0.0042, C=1000.00, Validation Accuracy: 0.9167\n",
            "Gamma=0.0043, C=0.01, Validation Accuracy: 0.4167\n",
            "Gamma=0.0043, C=0.10, Validation Accuracy: 0.4167\n",
            "Gamma=0.0043, C=1.00, Validation Accuracy: 0.6250\n",
            "Gamma=0.0043, C=10.00, Validation Accuracy: 0.9167\n",
            "Gamma=0.0043, C=50.00, Validation Accuracy: 0.8750\n",
            "Gamma=0.0043, C=100.00, Validation Accuracy: 0.9583\n",
            "Gamma=0.0043, C=500.00, Validation Accuracy: 0.9167\n",
            "Gamma=0.0043, C=1000.00, Validation Accuracy: 0.9167\n",
            "Gamma=0.0044, C=0.01, Validation Accuracy: 0.4167\n",
            "Gamma=0.0044, C=0.10, Validation Accuracy: 0.4167\n",
            "Gamma=0.0044, C=1.00, Validation Accuracy: 0.6250\n",
            "Gamma=0.0044, C=10.00, Validation Accuracy: 0.9583\n",
            "Gamma=0.0044, C=50.00, Validation Accuracy: 0.8750\n",
            "Gamma=0.0044, C=100.00, Validation Accuracy: 0.9583\n",
            "Gamma=0.0044, C=500.00, Validation Accuracy: 0.9167\n",
            "Gamma=0.0044, C=1000.00, Validation Accuracy: 0.9167\n",
            "Gamma=0.0045, C=0.01, Validation Accuracy: 0.4167\n",
            "Gamma=0.0045, C=0.10, Validation Accuracy: 0.4167\n",
            "Gamma=0.0045, C=1.00, Validation Accuracy: 0.6250\n",
            "Gamma=0.0045, C=10.00, Validation Accuracy: 0.9583\n",
            "Gamma=0.0045, C=50.00, Validation Accuracy: 0.8750\n",
            "Gamma=0.0045, C=100.00, Validation Accuracy: 0.9583\n",
            "Gamma=0.0045, C=500.00, Validation Accuracy: 0.9167\n",
            "Gamma=0.0045, C=1000.00, Validation Accuracy: 0.9167\n",
            "Gamma=0.0046, C=0.01, Validation Accuracy: 0.4167\n",
            "Gamma=0.0046, C=0.10, Validation Accuracy: 0.4167\n",
            "Gamma=0.0046, C=1.00, Validation Accuracy: 0.6250\n",
            "Gamma=0.0046, C=10.00, Validation Accuracy: 0.9583\n",
            "Gamma=0.0046, C=50.00, Validation Accuracy: 0.8750\n",
            "Gamma=0.0046, C=100.00, Validation Accuracy: 0.9583\n",
            "Gamma=0.0046, C=500.00, Validation Accuracy: 0.9167\n",
            "Gamma=0.0046, C=1000.00, Validation Accuracy: 0.9167\n",
            "Gamma=0.0047, C=0.01, Validation Accuracy: 0.4167\n",
            "Gamma=0.0047, C=0.10, Validation Accuracy: 0.4167\n",
            "Gamma=0.0047, C=1.00, Validation Accuracy: 0.6250\n",
            "Gamma=0.0047, C=10.00, Validation Accuracy: 0.9583\n",
            "Gamma=0.0047, C=50.00, Validation Accuracy: 0.8750\n",
            "Gamma=0.0047, C=100.00, Validation Accuracy: 0.9583\n",
            "Gamma=0.0047, C=500.00, Validation Accuracy: 0.9167\n",
            "Gamma=0.0047, C=1000.00, Validation Accuracy: 0.9167\n",
            "Gamma=0.0048, C=0.01, Validation Accuracy: 0.4167\n",
            "Gamma=0.0048, C=0.10, Validation Accuracy: 0.4167\n",
            "Gamma=0.0048, C=1.00, Validation Accuracy: 0.5833\n",
            "Gamma=0.0048, C=10.00, Validation Accuracy: 0.9167\n",
            "Gamma=0.0048, C=50.00, Validation Accuracy: 0.8750\n",
            "Gamma=0.0048, C=100.00, Validation Accuracy: 0.9583\n",
            "Gamma=0.0048, C=500.00, Validation Accuracy: 0.9167\n",
            "Gamma=0.0048, C=1000.00, Validation Accuracy: 0.9167\n",
            "Gamma=0.0049, C=0.01, Validation Accuracy: 0.4167\n",
            "Gamma=0.0049, C=0.10, Validation Accuracy: 0.4167\n",
            "Gamma=0.0049, C=1.00, Validation Accuracy: 0.6250\n",
            "Gamma=0.0049, C=10.00, Validation Accuracy: 0.9167\n",
            "Gamma=0.0049, C=50.00, Validation Accuracy: 0.9167\n",
            "Gamma=0.0049, C=100.00, Validation Accuracy: 0.9583\n",
            "Gamma=0.0049, C=500.00, Validation Accuracy: 0.9167\n",
            "Gamma=0.0049, C=1000.00, Validation Accuracy: 0.9167\n",
            "Gamma=0.0050, C=0.01, Validation Accuracy: 0.4167\n",
            "Gamma=0.0050, C=0.10, Validation Accuracy: 0.4167\n",
            "Gamma=0.0050, C=1.00, Validation Accuracy: 0.6250\n",
            "Gamma=0.0050, C=10.00, Validation Accuracy: 0.9167\n",
            "Gamma=0.0050, C=50.00, Validation Accuracy: 0.9583\n",
            "Gamma=0.0050, C=100.00, Validation Accuracy: 0.9583\n",
            "Gamma=0.0050, C=500.00, Validation Accuracy: 0.9167\n",
            "Gamma=0.0050, C=1000.00, Validation Accuracy: 0.9167\n",
            "Gamma=0.0051, C=0.01, Validation Accuracy: 0.4167\n",
            "Gamma=0.0051, C=0.10, Validation Accuracy: 0.4167\n",
            "Gamma=0.0051, C=1.00, Validation Accuracy: 0.6250\n",
            "Gamma=0.0051, C=10.00, Validation Accuracy: 0.9167\n",
            "Gamma=0.0051, C=50.00, Validation Accuracy: 0.9583\n",
            "Gamma=0.0051, C=100.00, Validation Accuracy: 0.9583\n",
            "Gamma=0.0051, C=500.00, Validation Accuracy: 0.9167\n",
            "Gamma=0.0051, C=1000.00, Validation Accuracy: 0.9167\n",
            "Gamma=0.0052, C=0.01, Validation Accuracy: 0.4167\n",
            "Gamma=0.0052, C=0.10, Validation Accuracy: 0.4167\n",
            "Gamma=0.0052, C=1.00, Validation Accuracy: 0.5833\n",
            "Gamma=0.0052, C=10.00, Validation Accuracy: 0.9167\n",
            "Gamma=0.0052, C=50.00, Validation Accuracy: 0.9583\n",
            "Gamma=0.0052, C=100.00, Validation Accuracy: 0.9583\n",
            "Gamma=0.0052, C=500.00, Validation Accuracy: 0.9167\n",
            "Gamma=0.0052, C=1000.00, Validation Accuracy: 0.9167\n",
            "Gamma=0.0053, C=0.01, Validation Accuracy: 0.4167\n",
            "Gamma=0.0053, C=0.10, Validation Accuracy: 0.4167\n",
            "Gamma=0.0053, C=1.00, Validation Accuracy: 0.6250\n",
            "Gamma=0.0053, C=10.00, Validation Accuracy: 0.9167\n",
            "Gamma=0.0053, C=50.00, Validation Accuracy: 0.9583\n",
            "Gamma=0.0053, C=100.00, Validation Accuracy: 0.9583\n",
            "Gamma=0.0053, C=500.00, Validation Accuracy: 0.9167\n",
            "Gamma=0.0053, C=1000.00, Validation Accuracy: 0.9167\n",
            "Gamma=0.0054, C=0.01, Validation Accuracy: 0.4167\n",
            "Gamma=0.0054, C=0.10, Validation Accuracy: 0.4167\n",
            "Gamma=0.0054, C=1.00, Validation Accuracy: 0.6250\n",
            "Gamma=0.0054, C=10.00, Validation Accuracy: 0.9167\n",
            "Gamma=0.0054, C=50.00, Validation Accuracy: 0.9583\n",
            "Gamma=0.0054, C=100.00, Validation Accuracy: 0.9167\n",
            "Gamma=0.0054, C=500.00, Validation Accuracy: 0.9167\n",
            "Gamma=0.0054, C=1000.00, Validation Accuracy: 0.9167\n",
            "Gamma=0.0055, C=0.01, Validation Accuracy: 0.4167\n",
            "Gamma=0.0055, C=0.10, Validation Accuracy: 0.4167\n",
            "Gamma=0.0055, C=1.00, Validation Accuracy: 0.6667\n",
            "Gamma=0.0055, C=10.00, Validation Accuracy: 0.9167\n",
            "Gamma=0.0055, C=50.00, Validation Accuracy: 0.9583\n",
            "Gamma=0.0055, C=100.00, Validation Accuracy: 0.9167\n",
            "Gamma=0.0055, C=500.00, Validation Accuracy: 0.9167\n",
            "Gamma=0.0055, C=1000.00, Validation Accuracy: 0.9167\n",
            "Gamma=0.0056, C=0.01, Validation Accuracy: 0.4167\n",
            "Gamma=0.0056, C=0.10, Validation Accuracy: 0.4167\n",
            "Gamma=0.0056, C=1.00, Validation Accuracy: 0.6667\n",
            "Gamma=0.0056, C=10.00, Validation Accuracy: 0.9167\n",
            "Gamma=0.0056, C=50.00, Validation Accuracy: 0.9583\n",
            "Gamma=0.0056, C=100.00, Validation Accuracy: 0.9167\n",
            "Gamma=0.0056, C=500.00, Validation Accuracy: 0.9167\n",
            "Gamma=0.0056, C=1000.00, Validation Accuracy: 0.9167\n",
            "Gamma=0.0057, C=0.01, Validation Accuracy: 0.4167\n",
            "Gamma=0.0057, C=0.10, Validation Accuracy: 0.4167\n",
            "Gamma=0.0057, C=1.00, Validation Accuracy: 0.6250\n",
            "Gamma=0.0057, C=10.00, Validation Accuracy: 0.9167\n",
            "Gamma=0.0057, C=50.00, Validation Accuracy: 0.9583\n",
            "Gamma=0.0057, C=100.00, Validation Accuracy: 0.9167\n",
            "Gamma=0.0057, C=500.00, Validation Accuracy: 0.9167\n",
            "Gamma=0.0057, C=1000.00, Validation Accuracy: 0.9167\n",
            "Gamma=0.0058, C=0.01, Validation Accuracy: 0.4167\n",
            "Gamma=0.0058, C=0.10, Validation Accuracy: 0.4167\n",
            "Gamma=0.0058, C=1.00, Validation Accuracy: 0.6250\n",
            "Gamma=0.0058, C=10.00, Validation Accuracy: 0.9167\n",
            "Gamma=0.0058, C=50.00, Validation Accuracy: 0.9583\n",
            "Gamma=0.0058, C=100.00, Validation Accuracy: 0.9167\n",
            "Gamma=0.0058, C=500.00, Validation Accuracy: 0.9167\n",
            "Gamma=0.0058, C=1000.00, Validation Accuracy: 0.9167\n",
            "Gamma=0.0059, C=0.01, Validation Accuracy: 0.4167\n",
            "Gamma=0.0059, C=0.10, Validation Accuracy: 0.4167\n",
            "Gamma=0.0059, C=1.00, Validation Accuracy: 0.6250\n",
            "Gamma=0.0059, C=10.00, Validation Accuracy: 0.9167\n",
            "Gamma=0.0059, C=50.00, Validation Accuracy: 0.9583\n",
            "Gamma=0.0059, C=100.00, Validation Accuracy: 0.9167\n",
            "Gamma=0.0059, C=500.00, Validation Accuracy: 0.9167\n",
            "Gamma=0.0059, C=1000.00, Validation Accuracy: 0.9167\n",
            "Gamma=0.0060, C=0.01, Validation Accuracy: 0.4167\n",
            "Gamma=0.0060, C=0.10, Validation Accuracy: 0.4167\n",
            "Gamma=0.0060, C=1.00, Validation Accuracy: 0.6250\n",
            "Gamma=0.0060, C=10.00, Validation Accuracy: 0.9167\n",
            "Gamma=0.0060, C=50.00, Validation Accuracy: 0.9583\n",
            "Gamma=0.0060, C=100.00, Validation Accuracy: 0.9167\n",
            "Gamma=0.0060, C=500.00, Validation Accuracy: 0.9167\n",
            "Gamma=0.0060, C=1000.00, Validation Accuracy: 0.9167\n",
            "Gamma=0.0061, C=0.01, Validation Accuracy: 0.4167\n",
            "Gamma=0.0061, C=0.10, Validation Accuracy: 0.4167\n",
            "Gamma=0.0061, C=1.00, Validation Accuracy: 0.6250\n",
            "Gamma=0.0061, C=10.00, Validation Accuracy: 0.9167\n",
            "Gamma=0.0061, C=50.00, Validation Accuracy: 0.9583\n",
            "Gamma=0.0061, C=100.00, Validation Accuracy: 0.9167\n",
            "Gamma=0.0061, C=500.00, Validation Accuracy: 0.9167\n",
            "Gamma=0.0061, C=1000.00, Validation Accuracy: 0.9167\n",
            "Gamma=0.0062, C=0.01, Validation Accuracy: 0.4167\n",
            "Gamma=0.0062, C=0.10, Validation Accuracy: 0.4167\n",
            "Gamma=0.0062, C=1.00, Validation Accuracy: 0.6250\n",
            "Gamma=0.0062, C=10.00, Validation Accuracy: 0.9167\n",
            "Gamma=0.0062, C=50.00, Validation Accuracy: 0.9583\n",
            "Gamma=0.0062, C=100.00, Validation Accuracy: 0.9167\n",
            "Gamma=0.0062, C=500.00, Validation Accuracy: 0.9167\n",
            "Gamma=0.0062, C=1000.00, Validation Accuracy: 0.9167\n",
            "Gamma=0.0063, C=0.01, Validation Accuracy: 0.4167\n",
            "Gamma=0.0063, C=0.10, Validation Accuracy: 0.4167\n",
            "Gamma=0.0063, C=1.00, Validation Accuracy: 0.6250\n",
            "Gamma=0.0063, C=10.00, Validation Accuracy: 0.9167\n",
            "Gamma=0.0063, C=50.00, Validation Accuracy: 0.9167\n",
            "Gamma=0.0063, C=100.00, Validation Accuracy: 0.8750\n",
            "Gamma=0.0063, C=500.00, Validation Accuracy: 0.8750\n",
            "Gamma=0.0063, C=1000.00, Validation Accuracy: 0.8750\n",
            "Gamma=0.0064, C=0.01, Validation Accuracy: 0.4167\n",
            "Gamma=0.0064, C=0.10, Validation Accuracy: 0.4167\n",
            "Gamma=0.0064, C=1.00, Validation Accuracy: 0.6250\n",
            "Gamma=0.0064, C=10.00, Validation Accuracy: 0.9167\n",
            "Gamma=0.0064, C=50.00, Validation Accuracy: 0.9167\n",
            "Gamma=0.0064, C=100.00, Validation Accuracy: 0.8750\n",
            "Gamma=0.0064, C=500.00, Validation Accuracy: 0.8750\n",
            "Gamma=0.0064, C=1000.00, Validation Accuracy: 0.8750\n",
            "Gamma=0.0065, C=0.01, Validation Accuracy: 0.4167\n",
            "Gamma=0.0065, C=0.10, Validation Accuracy: 0.4167\n",
            "Gamma=0.0065, C=1.00, Validation Accuracy: 0.6250\n",
            "Gamma=0.0065, C=10.00, Validation Accuracy: 0.9167\n",
            "Gamma=0.0065, C=50.00, Validation Accuracy: 0.9167\n",
            "Gamma=0.0065, C=100.00, Validation Accuracy: 0.8750\n",
            "Gamma=0.0065, C=500.00, Validation Accuracy: 0.8750\n",
            "Gamma=0.0065, C=1000.00, Validation Accuracy: 0.8750\n",
            "Gamma=0.0066, C=0.01, Validation Accuracy: 0.4167\n",
            "Gamma=0.0066, C=0.10, Validation Accuracy: 0.4167\n",
            "Gamma=0.0066, C=1.00, Validation Accuracy: 0.7083\n",
            "Gamma=0.0066, C=10.00, Validation Accuracy: 0.9167\n",
            "Gamma=0.0066, C=50.00, Validation Accuracy: 0.9167\n",
            "Gamma=0.0066, C=100.00, Validation Accuracy: 0.8750\n",
            "Gamma=0.0066, C=500.00, Validation Accuracy: 0.8750\n",
            "Gamma=0.0066, C=1000.00, Validation Accuracy: 0.8750\n",
            "Gamma=0.0067, C=0.01, Validation Accuracy: 0.4167\n",
            "Gamma=0.0067, C=0.10, Validation Accuracy: 0.4167\n",
            "Gamma=0.0067, C=1.00, Validation Accuracy: 0.7083\n",
            "Gamma=0.0067, C=10.00, Validation Accuracy: 0.9167\n",
            "Gamma=0.0067, C=50.00, Validation Accuracy: 0.9167\n",
            "Gamma=0.0067, C=100.00, Validation Accuracy: 0.8750\n",
            "Gamma=0.0067, C=500.00, Validation Accuracy: 0.8750\n",
            "Gamma=0.0067, C=1000.00, Validation Accuracy: 0.8750\n",
            "Gamma=0.0068, C=0.01, Validation Accuracy: 0.4167\n",
            "Gamma=0.0068, C=0.10, Validation Accuracy: 0.4167\n",
            "Gamma=0.0068, C=1.00, Validation Accuracy: 0.7083\n",
            "Gamma=0.0068, C=10.00, Validation Accuracy: 0.9167\n",
            "Gamma=0.0068, C=50.00, Validation Accuracy: 0.9167\n",
            "Gamma=0.0068, C=100.00, Validation Accuracy: 0.8750\n",
            "Gamma=0.0068, C=500.00, Validation Accuracy: 0.8750\n",
            "Gamma=0.0068, C=1000.00, Validation Accuracy: 0.8750\n",
            "Gamma=0.0069, C=0.01, Validation Accuracy: 0.4167\n",
            "Gamma=0.0069, C=0.10, Validation Accuracy: 0.4167\n",
            "Gamma=0.0069, C=1.00, Validation Accuracy: 0.7083\n",
            "Gamma=0.0069, C=10.00, Validation Accuracy: 0.9167\n",
            "Gamma=0.0069, C=50.00, Validation Accuracy: 0.9167\n",
            "Gamma=0.0069, C=100.00, Validation Accuracy: 0.8750\n",
            "Gamma=0.0069, C=500.00, Validation Accuracy: 0.8750\n",
            "Gamma=0.0069, C=1000.00, Validation Accuracy: 0.8750\n",
            "Gamma=0.0070, C=0.01, Validation Accuracy: 0.4167\n",
            "Gamma=0.0070, C=0.10, Validation Accuracy: 0.4167\n",
            "Gamma=0.0070, C=1.00, Validation Accuracy: 0.7917\n",
            "Gamma=0.0070, C=10.00, Validation Accuracy: 0.9167\n",
            "Gamma=0.0070, C=50.00, Validation Accuracy: 0.9167\n",
            "Gamma=0.0070, C=100.00, Validation Accuracy: 0.8750\n",
            "Gamma=0.0070, C=500.00, Validation Accuracy: 0.8750\n",
            "Gamma=0.0070, C=1000.00, Validation Accuracy: 0.8750\n",
            "Gamma=0.0071, C=0.01, Validation Accuracy: 0.4167\n",
            "Gamma=0.0071, C=0.10, Validation Accuracy: 0.4167\n",
            "Gamma=0.0071, C=1.00, Validation Accuracy: 0.7500\n",
            "Gamma=0.0071, C=10.00, Validation Accuracy: 0.9167\n",
            "Gamma=0.0071, C=50.00, Validation Accuracy: 0.9167\n",
            "Gamma=0.0071, C=100.00, Validation Accuracy: 0.8750\n",
            "Gamma=0.0071, C=500.00, Validation Accuracy: 0.8750\n",
            "Gamma=0.0071, C=1000.00, Validation Accuracy: 0.8750\n",
            "Gamma=0.0072, C=0.01, Validation Accuracy: 0.4167\n",
            "Gamma=0.0072, C=0.10, Validation Accuracy: 0.4167\n",
            "Gamma=0.0072, C=1.00, Validation Accuracy: 0.7500\n",
            "Gamma=0.0072, C=10.00, Validation Accuracy: 0.9167\n",
            "Gamma=0.0072, C=50.00, Validation Accuracy: 0.9167\n",
            "Gamma=0.0072, C=100.00, Validation Accuracy: 0.8750\n",
            "Gamma=0.0072, C=500.00, Validation Accuracy: 0.8750\n",
            "Gamma=0.0072, C=1000.00, Validation Accuracy: 0.8750\n",
            "Gamma=0.0073, C=0.01, Validation Accuracy: 0.4167\n",
            "Gamma=0.0073, C=0.10, Validation Accuracy: 0.4167\n",
            "Gamma=0.0073, C=1.00, Validation Accuracy: 0.7917\n",
            "Gamma=0.0073, C=10.00, Validation Accuracy: 0.9167\n",
            "Gamma=0.0073, C=50.00, Validation Accuracy: 0.9167\n",
            "Gamma=0.0073, C=100.00, Validation Accuracy: 0.8750\n",
            "Gamma=0.0073, C=500.00, Validation Accuracy: 0.8750\n",
            "Gamma=0.0073, C=1000.00, Validation Accuracy: 0.8750\n",
            "Gamma=0.0074, C=0.01, Validation Accuracy: 0.4167\n",
            "Gamma=0.0074, C=0.10, Validation Accuracy: 0.4167\n",
            "Gamma=0.0074, C=1.00, Validation Accuracy: 0.8333\n",
            "Gamma=0.0074, C=10.00, Validation Accuracy: 0.9167\n",
            "Gamma=0.0074, C=50.00, Validation Accuracy: 0.9167\n",
            "Gamma=0.0074, C=100.00, Validation Accuracy: 0.8750\n",
            "Gamma=0.0074, C=500.00, Validation Accuracy: 0.8750\n",
            "Gamma=0.0074, C=1000.00, Validation Accuracy: 0.8750\n",
            "Gamma=0.0075, C=0.01, Validation Accuracy: 0.4167\n",
            "Gamma=0.0075, C=0.10, Validation Accuracy: 0.4167\n",
            "Gamma=0.0075, C=1.00, Validation Accuracy: 0.8333\n",
            "Gamma=0.0075, C=10.00, Validation Accuracy: 0.9167\n",
            "Gamma=0.0075, C=50.00, Validation Accuracy: 0.8750\n",
            "Gamma=0.0075, C=100.00, Validation Accuracy: 0.8750\n",
            "Gamma=0.0075, C=500.00, Validation Accuracy: 0.8750\n",
            "Gamma=0.0075, C=1000.00, Validation Accuracy: 0.8750\n",
            "Gamma=0.0076, C=0.01, Validation Accuracy: 0.4167\n",
            "Gamma=0.0076, C=0.10, Validation Accuracy: 0.4167\n",
            "Gamma=0.0076, C=1.00, Validation Accuracy: 0.8333\n",
            "Gamma=0.0076, C=10.00, Validation Accuracy: 0.9167\n",
            "Gamma=0.0076, C=50.00, Validation Accuracy: 0.8750\n",
            "Gamma=0.0076, C=100.00, Validation Accuracy: 0.8750\n",
            "Gamma=0.0076, C=500.00, Validation Accuracy: 0.8750\n",
            "Gamma=0.0076, C=1000.00, Validation Accuracy: 0.8750\n",
            "Gamma=0.0077, C=0.01, Validation Accuracy: 0.4167\n",
            "Gamma=0.0077, C=0.10, Validation Accuracy: 0.4167\n",
            "Gamma=0.0077, C=1.00, Validation Accuracy: 0.7917\n",
            "Gamma=0.0077, C=10.00, Validation Accuracy: 0.9167\n",
            "Gamma=0.0077, C=50.00, Validation Accuracy: 0.8750\n",
            "Gamma=0.0077, C=100.00, Validation Accuracy: 0.8750\n",
            "Gamma=0.0077, C=500.00, Validation Accuracy: 0.8750\n",
            "Gamma=0.0077, C=1000.00, Validation Accuracy: 0.8750\n",
            "Gamma=0.0078, C=0.01, Validation Accuracy: 0.4167\n",
            "Gamma=0.0078, C=0.10, Validation Accuracy: 0.4167\n",
            "Gamma=0.0078, C=1.00, Validation Accuracy: 0.8333\n",
            "Gamma=0.0078, C=10.00, Validation Accuracy: 0.9167\n",
            "Gamma=0.0078, C=50.00, Validation Accuracy: 0.8750\n",
            "Gamma=0.0078, C=100.00, Validation Accuracy: 0.8750\n",
            "Gamma=0.0078, C=500.00, Validation Accuracy: 0.8750\n",
            "Gamma=0.0078, C=1000.00, Validation Accuracy: 0.8750\n",
            "Gamma=0.0079, C=0.01, Validation Accuracy: 0.4167\n",
            "Gamma=0.0079, C=0.10, Validation Accuracy: 0.4167\n",
            "Gamma=0.0079, C=1.00, Validation Accuracy: 0.8333\n",
            "Gamma=0.0079, C=10.00, Validation Accuracy: 0.9167\n",
            "Gamma=0.0079, C=50.00, Validation Accuracy: 0.8750\n",
            "Gamma=0.0079, C=100.00, Validation Accuracy: 0.8750\n",
            "Gamma=0.0079, C=500.00, Validation Accuracy: 0.8750\n",
            "Gamma=0.0079, C=1000.00, Validation Accuracy: 0.8750\n",
            "Gamma=0.0080, C=0.01, Validation Accuracy: 0.4167\n",
            "Gamma=0.0080, C=0.10, Validation Accuracy: 0.4167\n",
            "Gamma=0.0080, C=1.00, Validation Accuracy: 0.8333\n",
            "Gamma=0.0080, C=10.00, Validation Accuracy: 0.9167\n",
            "Gamma=0.0080, C=50.00, Validation Accuracy: 0.8750\n",
            "Gamma=0.0080, C=100.00, Validation Accuracy: 0.8750\n",
            "Gamma=0.0080, C=500.00, Validation Accuracy: 0.8750\n",
            "Gamma=0.0080, C=1000.00, Validation Accuracy: 0.8750\n",
            "Gamma=0.0081, C=0.01, Validation Accuracy: 0.4167\n",
            "Gamma=0.0081, C=0.10, Validation Accuracy: 0.4167\n",
            "Gamma=0.0081, C=1.00, Validation Accuracy: 0.8333\n",
            "Gamma=0.0081, C=10.00, Validation Accuracy: 0.9167\n",
            "Gamma=0.0081, C=50.00, Validation Accuracy: 0.8750\n",
            "Gamma=0.0081, C=100.00, Validation Accuracy: 0.8750\n",
            "Gamma=0.0081, C=500.00, Validation Accuracy: 0.8750\n",
            "Gamma=0.0081, C=1000.00, Validation Accuracy: 0.8750\n",
            "Gamma=0.0082, C=0.01, Validation Accuracy: 0.4167\n",
            "Gamma=0.0082, C=0.10, Validation Accuracy: 0.4167\n",
            "Gamma=0.0082, C=1.00, Validation Accuracy: 0.8333\n",
            "Gamma=0.0082, C=10.00, Validation Accuracy: 0.9167\n",
            "Gamma=0.0082, C=50.00, Validation Accuracy: 0.8750\n",
            "Gamma=0.0082, C=100.00, Validation Accuracy: 0.8750\n",
            "Gamma=0.0082, C=500.00, Validation Accuracy: 0.8750\n",
            "Gamma=0.0082, C=1000.00, Validation Accuracy: 0.8750\n",
            "Gamma=0.0083, C=0.01, Validation Accuracy: 0.4167\n",
            "Gamma=0.0083, C=0.10, Validation Accuracy: 0.4167\n",
            "Gamma=0.0083, C=1.00, Validation Accuracy: 0.8333\n",
            "Gamma=0.0083, C=10.00, Validation Accuracy: 0.9167\n",
            "Gamma=0.0083, C=50.00, Validation Accuracy: 0.8750\n",
            "Gamma=0.0083, C=100.00, Validation Accuracy: 0.8750\n",
            "Gamma=0.0083, C=500.00, Validation Accuracy: 0.8750\n",
            "Gamma=0.0083, C=1000.00, Validation Accuracy: 0.8750\n",
            "Gamma=0.0084, C=0.01, Validation Accuracy: 0.4167\n",
            "Gamma=0.0084, C=0.10, Validation Accuracy: 0.4167\n",
            "Gamma=0.0084, C=1.00, Validation Accuracy: 0.8333\n",
            "Gamma=0.0084, C=10.00, Validation Accuracy: 0.9167\n",
            "Gamma=0.0084, C=50.00, Validation Accuracy: 0.8750\n",
            "Gamma=0.0084, C=100.00, Validation Accuracy: 0.8750\n",
            "Gamma=0.0084, C=500.00, Validation Accuracy: 0.8750\n",
            "Gamma=0.0084, C=1000.00, Validation Accuracy: 0.8750\n",
            "Gamma=0.0085, C=0.01, Validation Accuracy: 0.4167\n",
            "Gamma=0.0085, C=0.10, Validation Accuracy: 0.4167\n",
            "Gamma=0.0085, C=1.00, Validation Accuracy: 0.8333\n",
            "Gamma=0.0085, C=10.00, Validation Accuracy: 0.9167\n",
            "Gamma=0.0085, C=50.00, Validation Accuracy: 0.8750\n",
            "Gamma=0.0085, C=100.00, Validation Accuracy: 0.8750\n",
            "Gamma=0.0085, C=500.00, Validation Accuracy: 0.8750\n",
            "Gamma=0.0085, C=1000.00, Validation Accuracy: 0.8750\n",
            "Gamma=0.0086, C=0.01, Validation Accuracy: 0.4167\n",
            "Gamma=0.0086, C=0.10, Validation Accuracy: 0.4167\n",
            "Gamma=0.0086, C=1.00, Validation Accuracy: 0.8333\n",
            "Gamma=0.0086, C=10.00, Validation Accuracy: 0.9167\n",
            "Gamma=0.0086, C=50.00, Validation Accuracy: 0.8750\n",
            "Gamma=0.0086, C=100.00, Validation Accuracy: 0.8750\n",
            "Gamma=0.0086, C=500.00, Validation Accuracy: 0.8750\n",
            "Gamma=0.0086, C=1000.00, Validation Accuracy: 0.8750\n",
            "Gamma=0.0087, C=0.01, Validation Accuracy: 0.4167\n",
            "Gamma=0.0087, C=0.10, Validation Accuracy: 0.4167\n",
            "Gamma=0.0087, C=1.00, Validation Accuracy: 0.8333\n",
            "Gamma=0.0087, C=10.00, Validation Accuracy: 0.9167\n",
            "Gamma=0.0087, C=50.00, Validation Accuracy: 0.8750\n",
            "Gamma=0.0087, C=100.00, Validation Accuracy: 0.8750\n",
            "Gamma=0.0087, C=500.00, Validation Accuracy: 0.8750\n",
            "Gamma=0.0087, C=1000.00, Validation Accuracy: 0.8750\n",
            "Gamma=0.0088, C=0.01, Validation Accuracy: 0.4167\n",
            "Gamma=0.0088, C=0.10, Validation Accuracy: 0.4167\n",
            "Gamma=0.0088, C=1.00, Validation Accuracy: 0.8333\n",
            "Gamma=0.0088, C=10.00, Validation Accuracy: 0.9167\n",
            "Gamma=0.0088, C=50.00, Validation Accuracy: 0.8750\n",
            "Gamma=0.0088, C=100.00, Validation Accuracy: 0.8750\n",
            "Gamma=0.0088, C=500.00, Validation Accuracy: 0.8750\n",
            "Gamma=0.0088, C=1000.00, Validation Accuracy: 0.8750\n",
            "Gamma=0.0089, C=0.01, Validation Accuracy: 0.4167\n",
            "Gamma=0.0089, C=0.10, Validation Accuracy: 0.4167\n",
            "Gamma=0.0089, C=1.00, Validation Accuracy: 0.8333\n",
            "Gamma=0.0089, C=10.00, Validation Accuracy: 0.9167\n",
            "Gamma=0.0089, C=50.00, Validation Accuracy: 0.8750\n",
            "Gamma=0.0089, C=100.00, Validation Accuracy: 0.8750\n",
            "Gamma=0.0089, C=500.00, Validation Accuracy: 0.8750\n",
            "Gamma=0.0089, C=1000.00, Validation Accuracy: 0.8750\n",
            "Gamma=0.0090, C=0.01, Validation Accuracy: 0.4167\n",
            "Gamma=0.0090, C=0.10, Validation Accuracy: 0.4167\n",
            "Gamma=0.0090, C=1.00, Validation Accuracy: 0.8333\n",
            "Gamma=0.0090, C=10.00, Validation Accuracy: 0.9167\n",
            "Gamma=0.0090, C=50.00, Validation Accuracy: 0.8750\n",
            "Gamma=0.0090, C=100.00, Validation Accuracy: 0.8750\n",
            "Gamma=0.0090, C=500.00, Validation Accuracy: 0.8750\n",
            "Gamma=0.0090, C=1000.00, Validation Accuracy: 0.8750\n",
            "Gamma=0.0091, C=0.01, Validation Accuracy: 0.4167\n",
            "Gamma=0.0091, C=0.10, Validation Accuracy: 0.4167\n",
            "Gamma=0.0091, C=1.00, Validation Accuracy: 0.8333\n",
            "Gamma=0.0091, C=10.00, Validation Accuracy: 0.8750\n",
            "Gamma=0.0091, C=50.00, Validation Accuracy: 0.8750\n",
            "Gamma=0.0091, C=100.00, Validation Accuracy: 0.8750\n",
            "Gamma=0.0091, C=500.00, Validation Accuracy: 0.8750\n",
            "Gamma=0.0091, C=1000.00, Validation Accuracy: 0.8750\n",
            "Gamma=0.0092, C=0.01, Validation Accuracy: 0.4167\n",
            "Gamma=0.0092, C=0.10, Validation Accuracy: 0.4167\n",
            "Gamma=0.0092, C=1.00, Validation Accuracy: 0.8333\n",
            "Gamma=0.0092, C=10.00, Validation Accuracy: 0.8750\n",
            "Gamma=0.0092, C=50.00, Validation Accuracy: 0.8750\n",
            "Gamma=0.0092, C=100.00, Validation Accuracy: 0.8750\n",
            "Gamma=0.0092, C=500.00, Validation Accuracy: 0.8750\n",
            "Gamma=0.0092, C=1000.00, Validation Accuracy: 0.8750\n",
            "Gamma=0.0093, C=0.01, Validation Accuracy: 0.4167\n",
            "Gamma=0.0093, C=0.10, Validation Accuracy: 0.4167\n",
            "Gamma=0.0093, C=1.00, Validation Accuracy: 0.8333\n",
            "Gamma=0.0093, C=10.00, Validation Accuracy: 0.8750\n",
            "Gamma=0.0093, C=50.00, Validation Accuracy: 0.8750\n",
            "Gamma=0.0093, C=100.00, Validation Accuracy: 0.8750\n",
            "Gamma=0.0093, C=500.00, Validation Accuracy: 0.8750\n",
            "Gamma=0.0093, C=1000.00, Validation Accuracy: 0.8750\n",
            "Gamma=0.0094, C=0.01, Validation Accuracy: 0.4167\n",
            "Gamma=0.0094, C=0.10, Validation Accuracy: 0.4167\n",
            "Gamma=0.0094, C=1.00, Validation Accuracy: 0.8333\n",
            "Gamma=0.0094, C=10.00, Validation Accuracy: 0.8750\n",
            "Gamma=0.0094, C=50.00, Validation Accuracy: 0.8750\n",
            "Gamma=0.0094, C=100.00, Validation Accuracy: 0.8750\n",
            "Gamma=0.0094, C=500.00, Validation Accuracy: 0.8750\n",
            "Gamma=0.0094, C=1000.00, Validation Accuracy: 0.8750\n",
            "Gamma=0.0095, C=0.01, Validation Accuracy: 0.4167\n",
            "Gamma=0.0095, C=0.10, Validation Accuracy: 0.4167\n",
            "Gamma=0.0095, C=1.00, Validation Accuracy: 0.8333\n",
            "Gamma=0.0095, C=10.00, Validation Accuracy: 0.8750\n",
            "Gamma=0.0095, C=50.00, Validation Accuracy: 0.8750\n",
            "Gamma=0.0095, C=100.00, Validation Accuracy: 0.8750\n",
            "Gamma=0.0095, C=500.00, Validation Accuracy: 0.8750\n",
            "Gamma=0.0095, C=1000.00, Validation Accuracy: 0.8750\n",
            "Gamma=0.0096, C=0.01, Validation Accuracy: 0.4167\n",
            "Gamma=0.0096, C=0.10, Validation Accuracy: 0.4167\n",
            "Gamma=0.0096, C=1.00, Validation Accuracy: 0.8333\n",
            "Gamma=0.0096, C=10.00, Validation Accuracy: 0.8750\n",
            "Gamma=0.0096, C=50.00, Validation Accuracy: 0.8750\n",
            "Gamma=0.0096, C=100.00, Validation Accuracy: 0.8750\n",
            "Gamma=0.0096, C=500.00, Validation Accuracy: 0.8750\n",
            "Gamma=0.0096, C=1000.00, Validation Accuracy: 0.8750\n",
            "Gamma=0.0097, C=0.01, Validation Accuracy: 0.4167\n",
            "Gamma=0.0097, C=0.10, Validation Accuracy: 0.4167\n",
            "Gamma=0.0097, C=1.00, Validation Accuracy: 0.8333\n",
            "Gamma=0.0097, C=10.00, Validation Accuracy: 0.8750\n",
            "Gamma=0.0097, C=50.00, Validation Accuracy: 0.8750\n",
            "Gamma=0.0097, C=100.00, Validation Accuracy: 0.8750\n",
            "Gamma=0.0097, C=500.00, Validation Accuracy: 0.8750\n",
            "Gamma=0.0097, C=1000.00, Validation Accuracy: 0.8750\n",
            "Gamma=0.0098, C=0.01, Validation Accuracy: 0.4167\n",
            "Gamma=0.0098, C=0.10, Validation Accuracy: 0.4167\n",
            "Gamma=0.0098, C=1.00, Validation Accuracy: 0.8333\n",
            "Gamma=0.0098, C=10.00, Validation Accuracy: 0.8750\n",
            "Gamma=0.0098, C=50.00, Validation Accuracy: 0.9167\n",
            "Gamma=0.0098, C=100.00, Validation Accuracy: 0.9167\n",
            "Gamma=0.0098, C=500.00, Validation Accuracy: 0.9167\n",
            "Gamma=0.0098, C=1000.00, Validation Accuracy: 0.9167\n",
            "Gamma=0.0099, C=0.01, Validation Accuracy: 0.4167\n",
            "Gamma=0.0099, C=0.10, Validation Accuracy: 0.4167\n",
            "Gamma=0.0099, C=1.00, Validation Accuracy: 0.8333\n",
            "Gamma=0.0099, C=10.00, Validation Accuracy: 0.8750\n",
            "Gamma=0.0099, C=50.00, Validation Accuracy: 0.9167\n",
            "Gamma=0.0099, C=100.00, Validation Accuracy: 0.9167\n",
            "Gamma=0.0099, C=500.00, Validation Accuracy: 0.9167\n",
            "Gamma=0.0099, C=1000.00, Validation Accuracy: 0.9167\n",
            "Gamma=0.0100, C=0.01, Validation Accuracy: 0.4167\n",
            "Gamma=0.0100, C=0.10, Validation Accuracy: 0.4167\n",
            "Gamma=0.0100, C=1.00, Validation Accuracy: 0.8333\n",
            "Gamma=0.0100, C=10.00, Validation Accuracy: 0.8750\n",
            "Gamma=0.0100, C=50.00, Validation Accuracy: 0.9167\n",
            "Gamma=0.0100, C=100.00, Validation Accuracy: 0.9167\n",
            "Gamma=0.0100, C=500.00, Validation Accuracy: 0.9167\n",
            "Gamma=0.0100, C=1000.00, Validation Accuracy: 0.9167\n",
            "\n",
            "Best parameters from validation:\n",
            "Gamma=0.0005, C=100, Validation Accuracy: 0.9583\n",
            "\n",
            "Validation Accuracy (Best Params): 0.9583\n",
            "\n",
            "Final model on Test set:\n",
            "              precision    recall  f1-score   support\n",
            "\n",
            "     ChatGPT       0.62      1.00      0.77         5\n",
            "    LinkedIn       1.00      0.78      0.88         9\n",
            "      Reddit       1.00      1.00      1.00         6\n",
            "   Wikipedia       1.00      0.75      0.86         4\n",
            "\n",
            "    accuracy                           0.88        24\n",
            "   macro avg       0.91      0.88      0.88        24\n",
            "weighted avg       0.92      0.88      0.88        24\n",
            "\n",
            "Test Accuracy: 0.8750\n"
          ]
        }
      ],
      "source": [
        "import pandas as pd\n",
        "import seaborn as sns\n",
        "import matplotlib.pyplot as plt\n",
        "from sklearn.svm import SVC\n",
        "from sklearn.metrics import accuracy_score, classification_report\n",
        "import numpy as np\n",
        "\n",
        "# Define hyperparameter search ranges\n",
        "C_range = [0.01, 0.1, 1, 10, 50, 100, 500, 1000]\n",
        "gamma_range = np.arange(0.0005, 0.0101, 0.0001)\n",
        "\n",
        "# Track best model and all results for RBF kernel\n",
        "top_accuracy = 0\n",
        "best_params = {'gamma': None, 'C': None}\n",
        "results = []\n",
        "\n",
        "# Grid search using validation set\n",
        "for gamma in gamma_range:\n",
        "    for C in C_range:\n",
        "        model = SVC(kernel='rbf', gamma=gamma, C=C, random_state=123)\n",
        "        model.fit(X_train_scaled, y_train)\n",
        "        y_val_pred = model.predict(X_val_scaled)\n",
        "        accuracy = accuracy_score(y_val, y_val_pred)\n",
        "        print(f\"Gamma={gamma:.4f}, C={C:.2f}, Validation Accuracy: {accuracy:.4f}\")\n",
        "        results.append((gamma, C, accuracy))\n",
        "\n",
        "        if accuracy > top_accuracy:\n",
        "            top_accuracy = accuracy\n",
        "            best_params['gamma'] = gamma\n",
        "            best_params['C'] = C\n",
        "\n",
        "# Output best validation combo\n",
        "print(\"\\nBest parameters from validation:\")\n",
        "print(f\"Gamma={best_params['gamma']}, C={best_params['C']}, Validation Accuracy: {top_accuracy:.4f}\")\n",
        "\n",
        "# Retrain on full train + val set\n",
        "X_trainval = np.vstack([X_train_scaled, X_val_scaled])\n",
        "y_trainval = np.concatenate([y_train, y_val])\n",
        "\n",
        "final_model = SVC(kernel='rbf', gamma=best_params['gamma'], C=best_params['C'], random_state=123)\n",
        "final_model.fit(X_trainval, y_trainval)\n",
        "\n",
        "y_test_pred = final_model.predict(X_test_scaled)\n",
        "\n",
        "# Report final validation + test performance\n",
        "print(f\"\\nValidation Accuracy (Best Params): {top_accuracy:.4f}\")\n",
        "print(\"\\nFinal model on Test set:\")\n",
        "print(classification_report(y_test, y_test_pred, zero_division=0))\n",
        "print(f\"Test Accuracy: {accuracy_score(y_test, y_test_pred):.4f}\")\n",
        "\n",
        "# too many data to put on a simple heatmap, unless comfortable with blowing up figsize to see it all\n",
        "# Heatmap of validation accuracy\n",
        "# results_df = pd.DataFrame(results, columns=['Gamma', 'C', 'Accuracy'])\n",
        "# heatmap_data = results_df.pivot(index='Gamma', columns='C', values='Accuracy')\n",
        "\n",
        "# plt.figure(figsize=(50, 30))\n",
        "# sns.heatmap(heatmap_data, annot=True, fmt=\".4f\", cmap='YlGnBu', linewidths=0.5)\n",
        "# plt.title(\"Validation Accuracy Heatmap (RBF Kernel)\")\n",
        "# plt.xlabel(\"C\")\n",
        "# plt.ylabel(\"Gamma\")\n",
        "\n",
        "# # Highlight best param combo\n",
        "# plt.scatter(\n",
        "#     x=heatmap_data.columns.get_loc(best_params['C']) + 0.5,\n",
        "#     y=heatmap_data.index.get_loc(best_params['gamma']) + 0.5\n",
        "# )\n",
        "# plt.legend(loc='upper right')\n",
        "# plt.tight_layout()\n",
        "# plt.show()"
      ]
    },
    {
      "cell_type": "code",
      "execution_count": 13,
      "metadata": {},
      "outputs": [
        {
          "name": "stdout",
          "output_type": "stream",
          "text": [
            "Validation accuracy: 0.9583333333333334\n",
            "\n",
            "Final model on Test set:\n",
            "              precision    recall  f1-score   support\n",
            "\n",
            "     ChatGPT       0.62      1.00      0.77         5\n",
            "    LinkedIn       1.00      0.78      0.88         9\n",
            "      Reddit       1.00      1.00      1.00         6\n",
            "   Wikipedia       1.00      0.75      0.86         4\n",
            "\n",
            "    accuracy                           0.88        24\n",
            "   macro avg       0.91      0.88      0.88        24\n",
            "weighted avg       0.92      0.88      0.88        24\n",
            "\n",
            "Test accuracy: 0.8750\n"
          ]
        },
        {
          "data": {
            "application/vnd.plotly.v1+json": {
              "config": {
                "plotlyServerURL": "https://plot.ly"
              },
              "data": [
                {
                  "colorscale": [
                    [
                      0,
                      "rgb(247,251,255)"
                    ],
                    [
                      0.125,
                      "rgb(222,235,247)"
                    ],
                    [
                      0.25,
                      "rgb(198,219,239)"
                    ],
                    [
                      0.375,
                      "rgb(158,202,225)"
                    ],
                    [
                      0.5,
                      "rgb(107,174,214)"
                    ],
                    [
                      0.625,
                      "rgb(66,146,198)"
                    ],
                    [
                      0.75,
                      "rgb(33,113,181)"
                    ],
                    [
                      0.875,
                      "rgb(8,81,156)"
                    ],
                    [
                      1,
                      "rgb(8,48,107)"
                    ]
                  ],
                  "reversescale": false,
                  "showscale": true,
                  "type": "heatmap",
                  "x": [
                    "ChatGPT",
                    "Reddit",
                    "Wikipedia",
                    "LinkedIn"
                  ],
                  "y": [
                    "ChatGPT",
                    "Reddit",
                    "Wikipedia",
                    "LinkedIn"
                  ],
                  "z": [
                    [
                      5,
                      0,
                      0,
                      0
                    ],
                    [
                      0,
                      6,
                      0,
                      0
                    ],
                    [
                      1,
                      0,
                      3,
                      0
                    ],
                    [
                      2,
                      0,
                      0,
                      7
                    ]
                  ]
                }
              ],
              "layout": {
                "annotations": [
                  {
                    "font": {
                      "color": "#FFFFFF"
                    },
                    "showarrow": false,
                    "text": "5",
                    "x": "ChatGPT",
                    "xref": "x",
                    "y": "ChatGPT",
                    "yref": "y"
                  },
                  {
                    "font": {
                      "color": "#000000"
                    },
                    "showarrow": false,
                    "text": "0",
                    "x": "Reddit",
                    "xref": "x",
                    "y": "ChatGPT",
                    "yref": "y"
                  },
                  {
                    "font": {
                      "color": "#000000"
                    },
                    "showarrow": false,
                    "text": "0",
                    "x": "Wikipedia",
                    "xref": "x",
                    "y": "ChatGPT",
                    "yref": "y"
                  },
                  {
                    "font": {
                      "color": "#000000"
                    },
                    "showarrow": false,
                    "text": "0",
                    "x": "LinkedIn",
                    "xref": "x",
                    "y": "ChatGPT",
                    "yref": "y"
                  },
                  {
                    "font": {
                      "color": "#000000"
                    },
                    "showarrow": false,
                    "text": "0",
                    "x": "ChatGPT",
                    "xref": "x",
                    "y": "Reddit",
                    "yref": "y"
                  },
                  {
                    "font": {
                      "color": "#FFFFFF"
                    },
                    "showarrow": false,
                    "text": "6",
                    "x": "Reddit",
                    "xref": "x",
                    "y": "Reddit",
                    "yref": "y"
                  },
                  {
                    "font": {
                      "color": "#000000"
                    },
                    "showarrow": false,
                    "text": "0",
                    "x": "Wikipedia",
                    "xref": "x",
                    "y": "Reddit",
                    "yref": "y"
                  },
                  {
                    "font": {
                      "color": "#000000"
                    },
                    "showarrow": false,
                    "text": "0",
                    "x": "LinkedIn",
                    "xref": "x",
                    "y": "Reddit",
                    "yref": "y"
                  },
                  {
                    "font": {
                      "color": "#000000"
                    },
                    "showarrow": false,
                    "text": "1",
                    "x": "ChatGPT",
                    "xref": "x",
                    "y": "Wikipedia",
                    "yref": "y"
                  },
                  {
                    "font": {
                      "color": "#000000"
                    },
                    "showarrow": false,
                    "text": "0",
                    "x": "Reddit",
                    "xref": "x",
                    "y": "Wikipedia",
                    "yref": "y"
                  },
                  {
                    "font": {
                      "color": "#000000"
                    },
                    "showarrow": false,
                    "text": "3",
                    "x": "Wikipedia",
                    "xref": "x",
                    "y": "Wikipedia",
                    "yref": "y"
                  },
                  {
                    "font": {
                      "color": "#000000"
                    },
                    "showarrow": false,
                    "text": "0",
                    "x": "LinkedIn",
                    "xref": "x",
                    "y": "Wikipedia",
                    "yref": "y"
                  },
                  {
                    "font": {
                      "color": "#000000"
                    },
                    "showarrow": false,
                    "text": "2",
                    "x": "ChatGPT",
                    "xref": "x",
                    "y": "LinkedIn",
                    "yref": "y"
                  },
                  {
                    "font": {
                      "color": "#000000"
                    },
                    "showarrow": false,
                    "text": "0",
                    "x": "Reddit",
                    "xref": "x",
                    "y": "LinkedIn",
                    "yref": "y"
                  },
                  {
                    "font": {
                      "color": "#000000"
                    },
                    "showarrow": false,
                    "text": "0",
                    "x": "Wikipedia",
                    "xref": "x",
                    "y": "LinkedIn",
                    "yref": "y"
                  },
                  {
                    "font": {
                      "color": "#FFFFFF"
                    },
                    "showarrow": false,
                    "text": "7",
                    "x": "LinkedIn",
                    "xref": "x",
                    "y": "LinkedIn",
                    "yref": "y"
                  }
                ],
                "font": {
                  "color": "black",
                  "family": "Arial",
                  "size": 12
                },
                "margin": {
                  "b": 100,
                  "l": 100,
                  "r": 50,
                  "t": 100
                },
                "paper_bgcolor": "white",
                "plot_bgcolor": "white",
                "template": {
                  "data": {
                    "bar": [
                      {
                        "error_x": {
                          "color": "#2a3f5f"
                        },
                        "error_y": {
                          "color": "#2a3f5f"
                        },
                        "marker": {
                          "line": {
                            "color": "#E5ECF6",
                            "width": 0.5
                          },
                          "pattern": {
                            "fillmode": "overlay",
                            "size": 10,
                            "solidity": 0.2
                          }
                        },
                        "type": "bar"
                      }
                    ],
                    "barpolar": [
                      {
                        "marker": {
                          "line": {
                            "color": "#E5ECF6",
                            "width": 0.5
                          },
                          "pattern": {
                            "fillmode": "overlay",
                            "size": 10,
                            "solidity": 0.2
                          }
                        },
                        "type": "barpolar"
                      }
                    ],
                    "carpet": [
                      {
                        "aaxis": {
                          "endlinecolor": "#2a3f5f",
                          "gridcolor": "white",
                          "linecolor": "white",
                          "minorgridcolor": "white",
                          "startlinecolor": "#2a3f5f"
                        },
                        "baxis": {
                          "endlinecolor": "#2a3f5f",
                          "gridcolor": "white",
                          "linecolor": "white",
                          "minorgridcolor": "white",
                          "startlinecolor": "#2a3f5f"
                        },
                        "type": "carpet"
                      }
                    ],
                    "choropleth": [
                      {
                        "colorbar": {
                          "outlinewidth": 0,
                          "ticks": ""
                        },
                        "type": "choropleth"
                      }
                    ],
                    "contour": [
                      {
                        "colorbar": {
                          "outlinewidth": 0,
                          "ticks": ""
                        },
                        "colorscale": [
                          [
                            0,
                            "#0d0887"
                          ],
                          [
                            0.1111111111111111,
                            "#46039f"
                          ],
                          [
                            0.2222222222222222,
                            "#7201a8"
                          ],
                          [
                            0.3333333333333333,
                            "#9c179e"
                          ],
                          [
                            0.4444444444444444,
                            "#bd3786"
                          ],
                          [
                            0.5555555555555556,
                            "#d8576b"
                          ],
                          [
                            0.6666666666666666,
                            "#ed7953"
                          ],
                          [
                            0.7777777777777778,
                            "#fb9f3a"
                          ],
                          [
                            0.8888888888888888,
                            "#fdca26"
                          ],
                          [
                            1,
                            "#f0f921"
                          ]
                        ],
                        "type": "contour"
                      }
                    ],
                    "contourcarpet": [
                      {
                        "colorbar": {
                          "outlinewidth": 0,
                          "ticks": ""
                        },
                        "type": "contourcarpet"
                      }
                    ],
                    "heatmap": [
                      {
                        "colorbar": {
                          "outlinewidth": 0,
                          "ticks": ""
                        },
                        "colorscale": [
                          [
                            0,
                            "#0d0887"
                          ],
                          [
                            0.1111111111111111,
                            "#46039f"
                          ],
                          [
                            0.2222222222222222,
                            "#7201a8"
                          ],
                          [
                            0.3333333333333333,
                            "#9c179e"
                          ],
                          [
                            0.4444444444444444,
                            "#bd3786"
                          ],
                          [
                            0.5555555555555556,
                            "#d8576b"
                          ],
                          [
                            0.6666666666666666,
                            "#ed7953"
                          ],
                          [
                            0.7777777777777778,
                            "#fb9f3a"
                          ],
                          [
                            0.8888888888888888,
                            "#fdca26"
                          ],
                          [
                            1,
                            "#f0f921"
                          ]
                        ],
                        "type": "heatmap"
                      }
                    ],
                    "heatmapgl": [
                      {
                        "colorbar": {
                          "outlinewidth": 0,
                          "ticks": ""
                        },
                        "colorscale": [
                          [
                            0,
                            "#0d0887"
                          ],
                          [
                            0.1111111111111111,
                            "#46039f"
                          ],
                          [
                            0.2222222222222222,
                            "#7201a8"
                          ],
                          [
                            0.3333333333333333,
                            "#9c179e"
                          ],
                          [
                            0.4444444444444444,
                            "#bd3786"
                          ],
                          [
                            0.5555555555555556,
                            "#d8576b"
                          ],
                          [
                            0.6666666666666666,
                            "#ed7953"
                          ],
                          [
                            0.7777777777777778,
                            "#fb9f3a"
                          ],
                          [
                            0.8888888888888888,
                            "#fdca26"
                          ],
                          [
                            1,
                            "#f0f921"
                          ]
                        ],
                        "type": "heatmapgl"
                      }
                    ],
                    "histogram": [
                      {
                        "marker": {
                          "pattern": {
                            "fillmode": "overlay",
                            "size": 10,
                            "solidity": 0.2
                          }
                        },
                        "type": "histogram"
                      }
                    ],
                    "histogram2d": [
                      {
                        "colorbar": {
                          "outlinewidth": 0,
                          "ticks": ""
                        },
                        "colorscale": [
                          [
                            0,
                            "#0d0887"
                          ],
                          [
                            0.1111111111111111,
                            "#46039f"
                          ],
                          [
                            0.2222222222222222,
                            "#7201a8"
                          ],
                          [
                            0.3333333333333333,
                            "#9c179e"
                          ],
                          [
                            0.4444444444444444,
                            "#bd3786"
                          ],
                          [
                            0.5555555555555556,
                            "#d8576b"
                          ],
                          [
                            0.6666666666666666,
                            "#ed7953"
                          ],
                          [
                            0.7777777777777778,
                            "#fb9f3a"
                          ],
                          [
                            0.8888888888888888,
                            "#fdca26"
                          ],
                          [
                            1,
                            "#f0f921"
                          ]
                        ],
                        "type": "histogram2d"
                      }
                    ],
                    "histogram2dcontour": [
                      {
                        "colorbar": {
                          "outlinewidth": 0,
                          "ticks": ""
                        },
                        "colorscale": [
                          [
                            0,
                            "#0d0887"
                          ],
                          [
                            0.1111111111111111,
                            "#46039f"
                          ],
                          [
                            0.2222222222222222,
                            "#7201a8"
                          ],
                          [
                            0.3333333333333333,
                            "#9c179e"
                          ],
                          [
                            0.4444444444444444,
                            "#bd3786"
                          ],
                          [
                            0.5555555555555556,
                            "#d8576b"
                          ],
                          [
                            0.6666666666666666,
                            "#ed7953"
                          ],
                          [
                            0.7777777777777778,
                            "#fb9f3a"
                          ],
                          [
                            0.8888888888888888,
                            "#fdca26"
                          ],
                          [
                            1,
                            "#f0f921"
                          ]
                        ],
                        "type": "histogram2dcontour"
                      }
                    ],
                    "mesh3d": [
                      {
                        "colorbar": {
                          "outlinewidth": 0,
                          "ticks": ""
                        },
                        "type": "mesh3d"
                      }
                    ],
                    "parcoords": [
                      {
                        "line": {
                          "colorbar": {
                            "outlinewidth": 0,
                            "ticks": ""
                          }
                        },
                        "type": "parcoords"
                      }
                    ],
                    "pie": [
                      {
                        "automargin": true,
                        "type": "pie"
                      }
                    ],
                    "scatter": [
                      {
                        "marker": {
                          "colorbar": {
                            "outlinewidth": 0,
                            "ticks": ""
                          }
                        },
                        "type": "scatter"
                      }
                    ],
                    "scatter3d": [
                      {
                        "line": {
                          "colorbar": {
                            "outlinewidth": 0,
                            "ticks": ""
                          }
                        },
                        "marker": {
                          "colorbar": {
                            "outlinewidth": 0,
                            "ticks": ""
                          }
                        },
                        "type": "scatter3d"
                      }
                    ],
                    "scattercarpet": [
                      {
                        "marker": {
                          "colorbar": {
                            "outlinewidth": 0,
                            "ticks": ""
                          }
                        },
                        "type": "scattercarpet"
                      }
                    ],
                    "scattergeo": [
                      {
                        "marker": {
                          "colorbar": {
                            "outlinewidth": 0,
                            "ticks": ""
                          }
                        },
                        "type": "scattergeo"
                      }
                    ],
                    "scattergl": [
                      {
                        "marker": {
                          "colorbar": {
                            "outlinewidth": 0,
                            "ticks": ""
                          }
                        },
                        "type": "scattergl"
                      }
                    ],
                    "scattermapbox": [
                      {
                        "marker": {
                          "colorbar": {
                            "outlinewidth": 0,
                            "ticks": ""
                          }
                        },
                        "type": "scattermapbox"
                      }
                    ],
                    "scatterpolar": [
                      {
                        "marker": {
                          "colorbar": {
                            "outlinewidth": 0,
                            "ticks": ""
                          }
                        },
                        "type": "scatterpolar"
                      }
                    ],
                    "scatterpolargl": [
                      {
                        "marker": {
                          "colorbar": {
                            "outlinewidth": 0,
                            "ticks": ""
                          }
                        },
                        "type": "scatterpolargl"
                      }
                    ],
                    "scatterternary": [
                      {
                        "marker": {
                          "colorbar": {
                            "outlinewidth": 0,
                            "ticks": ""
                          }
                        },
                        "type": "scatterternary"
                      }
                    ],
                    "surface": [
                      {
                        "colorbar": {
                          "outlinewidth": 0,
                          "ticks": ""
                        },
                        "colorscale": [
                          [
                            0,
                            "#0d0887"
                          ],
                          [
                            0.1111111111111111,
                            "#46039f"
                          ],
                          [
                            0.2222222222222222,
                            "#7201a8"
                          ],
                          [
                            0.3333333333333333,
                            "#9c179e"
                          ],
                          [
                            0.4444444444444444,
                            "#bd3786"
                          ],
                          [
                            0.5555555555555556,
                            "#d8576b"
                          ],
                          [
                            0.6666666666666666,
                            "#ed7953"
                          ],
                          [
                            0.7777777777777778,
                            "#fb9f3a"
                          ],
                          [
                            0.8888888888888888,
                            "#fdca26"
                          ],
                          [
                            1,
                            "#f0f921"
                          ]
                        ],
                        "type": "surface"
                      }
                    ],
                    "table": [
                      {
                        "cells": {
                          "fill": {
                            "color": "#EBF0F8"
                          },
                          "line": {
                            "color": "white"
                          }
                        },
                        "header": {
                          "fill": {
                            "color": "#C8D4E3"
                          },
                          "line": {
                            "color": "white"
                          }
                        },
                        "type": "table"
                      }
                    ]
                  },
                  "layout": {
                    "annotationdefaults": {
                      "arrowcolor": "#2a3f5f",
                      "arrowhead": 0,
                      "arrowwidth": 1
                    },
                    "autotypenumbers": "strict",
                    "coloraxis": {
                      "colorbar": {
                        "outlinewidth": 0,
                        "ticks": ""
                      }
                    },
                    "colorscale": {
                      "diverging": [
                        [
                          0,
                          "#8e0152"
                        ],
                        [
                          0.1,
                          "#c51b7d"
                        ],
                        [
                          0.2,
                          "#de77ae"
                        ],
                        [
                          0.3,
                          "#f1b6da"
                        ],
                        [
                          0.4,
                          "#fde0ef"
                        ],
                        [
                          0.5,
                          "#f7f7f7"
                        ],
                        [
                          0.6,
                          "#e6f5d0"
                        ],
                        [
                          0.7,
                          "#b8e186"
                        ],
                        [
                          0.8,
                          "#7fbc41"
                        ],
                        [
                          0.9,
                          "#4d9221"
                        ],
                        [
                          1,
                          "#276419"
                        ]
                      ],
                      "sequential": [
                        [
                          0,
                          "#0d0887"
                        ],
                        [
                          0.1111111111111111,
                          "#46039f"
                        ],
                        [
                          0.2222222222222222,
                          "#7201a8"
                        ],
                        [
                          0.3333333333333333,
                          "#9c179e"
                        ],
                        [
                          0.4444444444444444,
                          "#bd3786"
                        ],
                        [
                          0.5555555555555556,
                          "#d8576b"
                        ],
                        [
                          0.6666666666666666,
                          "#ed7953"
                        ],
                        [
                          0.7777777777777778,
                          "#fb9f3a"
                        ],
                        [
                          0.8888888888888888,
                          "#fdca26"
                        ],
                        [
                          1,
                          "#f0f921"
                        ]
                      ],
                      "sequentialminus": [
                        [
                          0,
                          "#0d0887"
                        ],
                        [
                          0.1111111111111111,
                          "#46039f"
                        ],
                        [
                          0.2222222222222222,
                          "#7201a8"
                        ],
                        [
                          0.3333333333333333,
                          "#9c179e"
                        ],
                        [
                          0.4444444444444444,
                          "#bd3786"
                        ],
                        [
                          0.5555555555555556,
                          "#d8576b"
                        ],
                        [
                          0.6666666666666666,
                          "#ed7953"
                        ],
                        [
                          0.7777777777777778,
                          "#fb9f3a"
                        ],
                        [
                          0.8888888888888888,
                          "#fdca26"
                        ],
                        [
                          1,
                          "#f0f921"
                        ]
                      ]
                    },
                    "colorway": [
                      "#636efa",
                      "#EF553B",
                      "#00cc96",
                      "#ab63fa",
                      "#FFA15A",
                      "#19d3f3",
                      "#FF6692",
                      "#B6E880",
                      "#FF97FF",
                      "#FECB52"
                    ],
                    "font": {
                      "color": "#2a3f5f"
                    },
                    "geo": {
                      "bgcolor": "white",
                      "lakecolor": "white",
                      "landcolor": "#E5ECF6",
                      "showlakes": true,
                      "showland": true,
                      "subunitcolor": "white"
                    },
                    "hoverlabel": {
                      "align": "left"
                    },
                    "hovermode": "closest",
                    "mapbox": {
                      "style": "light"
                    },
                    "paper_bgcolor": "white",
                    "plot_bgcolor": "#E5ECF6",
                    "polar": {
                      "angularaxis": {
                        "gridcolor": "white",
                        "linecolor": "white",
                        "ticks": ""
                      },
                      "bgcolor": "#E5ECF6",
                      "radialaxis": {
                        "gridcolor": "white",
                        "linecolor": "white",
                        "ticks": ""
                      }
                    },
                    "scene": {
                      "xaxis": {
                        "backgroundcolor": "#E5ECF6",
                        "gridcolor": "white",
                        "gridwidth": 2,
                        "linecolor": "white",
                        "showbackground": true,
                        "ticks": "",
                        "zerolinecolor": "white"
                      },
                      "yaxis": {
                        "backgroundcolor": "#E5ECF6",
                        "gridcolor": "white",
                        "gridwidth": 2,
                        "linecolor": "white",
                        "showbackground": true,
                        "ticks": "",
                        "zerolinecolor": "white"
                      },
                      "zaxis": {
                        "backgroundcolor": "#E5ECF6",
                        "gridcolor": "white",
                        "gridwidth": 2,
                        "linecolor": "white",
                        "showbackground": true,
                        "ticks": "",
                        "zerolinecolor": "white"
                      }
                    },
                    "shapedefaults": {
                      "line": {
                        "color": "#2a3f5f"
                      }
                    },
                    "ternary": {
                      "aaxis": {
                        "gridcolor": "white",
                        "linecolor": "white",
                        "ticks": ""
                      },
                      "baxis": {
                        "gridcolor": "white",
                        "linecolor": "white",
                        "ticks": ""
                      },
                      "bgcolor": "#E5ECF6",
                      "caxis": {
                        "gridcolor": "white",
                        "linecolor": "white",
                        "ticks": ""
                      }
                    },
                    "title": {
                      "x": 0.05
                    },
                    "xaxis": {
                      "automargin": true,
                      "gridcolor": "white",
                      "linecolor": "white",
                      "ticks": "",
                      "title": {
                        "standoff": 15
                      },
                      "zerolinecolor": "white",
                      "zerolinewidth": 2
                    },
                    "yaxis": {
                      "automargin": true,
                      "gridcolor": "white",
                      "linecolor": "white",
                      "ticks": "",
                      "title": {
                        "standoff": 15
                      },
                      "zerolinecolor": "white",
                      "zerolinewidth": 2
                    }
                  }
                },
                "title": {
                  "text": "Confusion Matrix: SVM (RBF, γ=0.0005, C=100)"
                },
                "xaxis": {
                  "dtick": 1,
                  "gridcolor": "rgb(0, 0, 0)",
                  "side": "bottom",
                  "tickangle": -45,
                  "ticks": "",
                  "title": {
                    "text": "Predicted Label"
                  },
                  "type": "category"
                },
                "yaxis": {
                  "autorange": "reversed",
                  "dtick": 1,
                  "ticks": "",
                  "ticksuffix": "  ",
                  "title": {
                    "text": "True Label"
                  },
                  "type": "category"
                }
              }
            }
          },
          "metadata": {},
          "output_type": "display_data"
        }
      ],
      "source": [
        "# ─────────────────── 1. Train fixed‑parameter SVM ───────────────────\n",
        "BEST_GAMMA = 0.0005\n",
        "BEST_C     = 100\n",
        "\n",
        "svm_rbf = SVC(kernel='rbf',\n",
        "              gamma=BEST_GAMMA,\n",
        "              C=BEST_C,\n",
        "              random_state=123)\n",
        "\n",
        "# Fit on (train + val)\n",
        "X_trainval = np.vstack([X_train_scaled, X_val_scaled])\n",
        "y_trainval = np.concatenate([y_train, y_val])\n",
        "\n",
        "svm_rbf.fit(X_trainval, y_trainval)\n",
        "\n",
        "# ─────────────────── 2. Validation & Test metrics ───────────────────\n",
        "y_val_pred  = svm_rbf.predict(X_val_scaled)\n",
        "y_test_pred = svm_rbf.predict(X_test_scaled)\n",
        "\n",
        "print(\"Validation accuracy:\", accuracy_score(y_val, y_val_pred))\n",
        "print(\"\\nFinal model on Test set:\")\n",
        "print(classification_report(y_test, y_test_pred, zero_division=0))\n",
        "print(f\"Test accuracy: {accuracy_score(y_test, y_test_pred):.4f}\")\n",
        "\n",
        "# ─────────────────── 3. Confusion‑matrix heat‑map ───────────────────\n",
        "# label maps\n",
        "# label_mapping = {'ChatGPT': 0, 'Reddit': 1, 'Wikipedia': 2, 'LinkedIn': 3}\n",
        "# index_to_label = {v: k for k, v in label_mapping.items()}\n",
        "# string order you want on the axes\n",
        "from sklearn.metrics import accuracy_score, classification_report, confusion_matrix\n",
        "\n",
        "# string order you want on the axes\n",
        "website_names = ['ChatGPT', 'Reddit', 'Wikipedia', 'LinkedIn']\n",
        "\n",
        "cm = confusion_matrix(y_test, y_test_pred, labels=website_names)\n",
        "\n",
        "def create_confusion_matrix_heatmap(cm, labels, title, color_scale='Blues'):\n",
        "    text_values = [[str(val) for val in row] for row in cm]\n",
        "\n",
        "    fig = ff.create_annotated_heatmap(\n",
        "        z=cm,\n",
        "        x=labels,\n",
        "        y=labels,\n",
        "        annotation_text=text_values,\n",
        "        colorscale=color_scale,\n",
        "        showscale=True\n",
        "    )\n",
        "    fig.update_layout(\n",
        "        title_text=title,\n",
        "        xaxis_title=\"Predicted Label\",\n",
        "        yaxis_title=\"True Label\",\n",
        "        xaxis_side=\"bottom\",\n",
        "        yaxis_autorange='reversed',\n",
        "        xaxis=dict(tickangle=-45),\n",
        "        margin=dict(l=100, r=50, t=100, b=100),\n",
        "        font=dict(family='Arial', size=12, color='black'),\n",
        "        plot_bgcolor='white',\n",
        "        paper_bgcolor='white'\n",
        "    )\n",
        "    fig.update_xaxes(type='category')\n",
        "    fig.update_yaxes(type='category')\n",
        "    return fig\n",
        "\n",
        "fig_cm = create_confusion_matrix_heatmap(\n",
        "    cm, website_names,\n",
        "    'Confusion Matrix: SVM (RBF, γ=0.0005, C=100)',\n",
        "    color_scale='Blues'\n",
        ")\n",
        "fig_cm.show()"
      ]
    },
    {
      "cell_type": "code",
      "execution_count": 75,
      "metadata": {
        "colab": {
          "base_uri": "https://localhost:8080/",
          "height": 1000
        },
        "id": "TLYNjFXYh3Dn",
        "outputId": "0729eca6-0c16-4b44-ef70-54bd7c106d09"
      },
      "outputs": [
        {
          "data": {
            "image/png": "[encoded data removed]",
            "text/plain": [
              "<Figure size 800x600 with 1 Axes>"
            ]
          },
          "metadata": {},
          "output_type": "display_data"
        },
        {
          "data": {
            "image/png": "[encoded data removed]",
            "text/plain": [
              "<Figure size 800x600 with 1 Axes>"
            ]
          },
          "metadata": {},
          "output_type": "display_data"
        },
        {
          "data": {
            "image/png": "[encoded data removed]",
            "text/plain": [
              "<Figure size 800x600 with 1 Axes>"
            ]
          },
          "metadata": {},
          "output_type": "display_data"
        },
        {
          "data": {
            "image/png": "[encoded data removed]",
            "text/plain": [
              "<Figure size 800x600 with 1 Axes>"
            ]
          },
          "metadata": {},
          "output_type": "display_data"
        },
        {
          "data": {
            "image/png": "[encoded data removed]",
            "text/plain": [
              "<Figure size 1000x800 with 1 Axes>"
            ]
          },
          "metadata": {},
          "output_type": "display_data"
        }
      ],
      "source": [
        "from sklearn.decomposition import PCA\n",
        "from sklearn.preprocessing import LabelEncoder\n",
        "\n",
        "# Apply PCA to training data only (fit only on training set)\n",
        "pca = PCA(n_components=2)\n",
        "X_train_pca = pca.fit_transform(X_train_scaled)\n",
        "X_val_pca = pca.transform(X_val_scaled)  # Apply transform to validation set\n",
        "\n",
        "def plot_kernel_decision_boundary(kernel, X_train_pca, y_train, X_val_pca, y_val):\n",
        "    le = LabelEncoder()\n",
        "    y_train_encoded = le.fit_transform(y_train)\n",
        "    y_val_encoded = le.transform(y_val)\n",
        "    class_names = le.classes_\n",
        "\n",
        "    # Train model only on training PCA data\n",
        "    model = SVC(kernel=kernel, gamma='scale', C=1).fit(X_train_pca, y_train_encoded)\n",
        "\n",
        "    h = 0.02\n",
        "    # include validation data\n",
        "    x_min = min(X_train_pca[:, 0].min(), X_val_pca[:, 0].min()) - 1\n",
        "    x_max = max(X_train_pca[:, 0].max(), X_val_pca[:, 0].max()) + 1\n",
        "    y_min = min(X_train_pca[:, 1].min(), X_val_pca[:, 1].min()) - 1\n",
        "    y_max = max(X_train_pca[:, 1].max(), X_val_pca[:, 1].max()) + 1\n",
        "\n",
        "    xx, yy = np.meshgrid(np.arange(x_min, x_max, h),\n",
        "                         np.arange(y_min, y_max, h))\n",
        "    grid_points = np.c_[xx.ravel(), yy.ravel()]\n",
        "    Z = model.predict(grid_points).reshape(xx.shape)\n",
        "\n",
        "    plt.figure(figsize=(8, 6))\n",
        "    plt.contourf(xx, yy, Z, cmap='coolwarm', alpha=0.5)\n",
        "\n",
        "    # Plot training data with class-colored dots\n",
        "    for idx, class_name in enumerate(class_names):\n",
        "        plt.scatter(\n",
        "            X_train_pca[y_train_encoded == idx, 0],\n",
        "            X_train_pca[y_train_encoded == idx, 1],\n",
        "            edgecolors='k', label=f\"Train - {class_name}\"\n",
        "        )\n",
        "\n",
        "    # Plot validation data in gray\n",
        "    plt.scatter(\n",
        "        X_val_pca[:, 0], X_val_pca[:, 1],\n",
        "        c='gray', marker='x', label='Validation set'\n",
        "    )\n",
        "\n",
        "    # Highlight support vectors\n",
        "    plt.scatter(\n",
        "        model.support_vectors_[:, 0],\n",
        "        model.support_vectors_[:, 1],\n",
        "        s=100, facecolors='none', linewidths=0.5\n",
        "    )\n",
        "\n",
        "    plt.title(f\"SVM with {kernel} kernel\")\n",
        "    plt.xlabel('PCA 1')\n",
        "    plt.ylabel('PCA 2')\n",
        "    plt.legend(title='Legend', loc='upper right')\n",
        "    plt.grid(True)\n",
        "    plt.show()\n",
        "\n",
        "    return model\n",
        "\n",
        "# Kernel list and storage\n",
        "kernels = ['linear', 'rbf', 'poly', 'sigmoid']\n",
        "all_models = []\n",
        "\n",
        "# Plot each kernel decision boundary with validation points\n",
        "for k in kernels:\n",
        "    model = plot_kernel_decision_boundary(k, X_train_pca, y_train, X_val_pca, y_val)\n",
        "    all_models.append(model)\n",
        "\n",
        "# Bar plot of support vector count for each kernel used to compare model complexity: fewer = simpler, more = potentially overfitting and more complex.\n",
        "plt.figure(figsize=(10,8))\n",
        "plt.bar(kernels, [model.n_support_.sum() for model in all_models], color='orchid')\n",
        "plt.title(\"Number of Support Vectors per Kernel\")\n",
        "plt.xlabel(\"Kernel\")\n",
        "plt.ylabel(\"Support Vectors\")\n",
        "plt.grid(axis='y')\n",
        "plt.show()\n",
        "# https://scikit-learn.org/stable/auto_examples/svm/plot_iris_svc.html#sphx-glr-auto-examples-svm-plot-iris-svc-py"
      ]
    },
    {
      "cell_type": "code",
      "execution_count": 76,
      "metadata": {
        "colab": {
          "base_uri": "https://localhost:8080/",
          "height": 507
        },
        "id": "_lEi2AvliNWs",
        "outputId": "d3a4dbd9-3e3d-47d2-b4b1-1bb3c428f209"
      },
      "outputs": [
        {
          "data": {
            "image/png": "[encoded data removed]",
            "text/plain": [
              "<Figure size 900x500 with 1 Axes>"
            ]
          },
          "metadata": {},
          "output_type": "display_data"
        }
      ],
      "source": [
        "import matplotlib.pyplot as plt\n",
        "import numpy as np\n",
        "from collections import Counter\n",
        "\n",
        "# Count true and predicted labels\n",
        "true_counts = Counter(y_test)\n",
        "pred_counts = Counter(y_test_pred)\n",
        "\n",
        "# Use all unique class labels since the features are string-based\n",
        "all_labels = sorted(set(true_counts.keys()) | set(pred_counts.keys()))\n",
        "\n",
        "# Percent calculations\n",
        "total = len(y_test)\n",
        "true_percents = [(true_counts[label] / total) * 100 for label in all_labels] #percentify\n",
        "pred_percents = [(pred_counts[label] / total) * 100 for label in all_labels]\n",
        "\n",
        "# Color the predicted bars by their relative frequency\n",
        "cmap = plt.colormaps.get_cmap(\"Blues\")\n",
        "max_percent = max(pred_percents)\n",
        "pred_colors = [cmap(p / max_percent) if max_percent > 0 else 'lightblue' for p in pred_percents] #color code the precentages on the chart based on their values\n",
        "\n",
        "# Plotting details..\n",
        "x = np.arange(len(all_labels))\n",
        "width = 0.35\n",
        "\n",
        "plt.figure(figsize=(9, 5))\n",
        "bars1 = plt.bar(x - width/2, true_percents, width, label='Actual', color='lightgray', edgecolor='gray')\n",
        "bars2 = plt.bar(x + width/2, pred_percents, width, label='Predicted', color=pred_colors, edgecolor='black')\n",
        "\n",
        "plt.ylabel('Percentage (%)')\n",
        "plt.title('Class Distribution: Actual vs Predicted')\n",
        "plt.xticks(x, all_labels, rotation=15)\n",
        "plt.ylim(0, 100)\n",
        "plt.legend(loc='upper right')\n",
        "plt.grid(axis='y', linestyle='--', alpha=0.5)\n",
        "\n",
        "# Add percentage labels on bars\n",
        "for bar in bars1 + bars2:\n",
        "    height = bar.get_height()\n",
        "    plt.text(bar.get_x() + bar.get_width()/2, height + 1, f\"{height:.1f}%\", ha='center', fontsize=9)\n",
        "\n",
        "plt.tight_layout()\n",
        "plt.show()"
      ]
    }
  ],
  "metadata": {
    "accelerator": "GPU",
    "colab": {
      "gpuType": "T4",
      "provenance": []
    },
    "kernelspec": {
      "display_name": "base",
      "language": "python",
      "name": "python3"
    },
    "language_info": {
      "codemirror_mode": {
        "name": "ipython",
        "version": 3
      },
      "file_extension": ".py",
      "mimetype": "text/x-python",
      "name": "python",
      "nbconvert_exporter": "python",
      "pygments_lexer": "ipython3",
      "version": "3.9.12"
    }
  },
  "nbformat": 4,
  "nbformat_minor": 0
}
